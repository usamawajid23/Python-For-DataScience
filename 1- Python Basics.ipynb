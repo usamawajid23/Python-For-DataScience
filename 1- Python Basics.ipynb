{
 "cells": [
  {
   "attachments": {},
   "cell_type": "markdown",
   "id": "b6e87410",
   "metadata": {},
   "source": [
    "## Python Basics"
   ]
  },
  {
   "cell_type": "code",
   "execution_count": null,
   "id": "72eda800",
   "metadata": {},
   "outputs": [
    {
     "name": "stdout",
     "output_type": "stream",
     "text": [
      "Hello World\n"
     ]
    }
   ],
   "source": [
    "print('Hello World')"
   ]
  },
  {
   "attachments": {},
   "cell_type": "markdown",
   "id": "770dca04",
   "metadata": {},
   "source": [
    "## Variables and Data Types"
   ]
  },
  {
   "cell_type": "raw",
   "id": "a16a5d06",
   "metadata": {},
   "source": [
    "Variable:     - Container to store a value\n",
    "Keywords:     - Reserved words in Python\n",
    "Identifiers:  - class/function/variable name\n",
    "Data Types:   -Primarily there are the following data types in Python:\n",
    " - Integers\n",
    " - Floating point numbers\n",
    " - Strings\n",
    " - Booleans\n",
    " - None"
   ]
  },
  {
   "cell_type": "code",
   "execution_count": null,
   "id": "a1bd5a15",
   "metadata": {},
   "outputs": [
    {
     "name": "stdout",
     "output_type": "stream",
     "text": [
      "Usama\n",
      "71\n",
      "88.44\n"
     ]
    }
   ],
   "source": [
    "a = 71                                #Identifies a as class<int>\n",
    "\n",
    "b = 88.44                             #Identifies b as class<float>\n",
    "\n",
    "name = \"Usama\"                       #Identifies name as class<Str>\n",
    "\n",
    "print (name)\n",
    "print (a)\n",
    "print (b)"
   ]
  },
  {
   "cell_type": "code",
   "execution_count": null,
   "id": "71019db0",
   "metadata": {},
   "outputs": [
    {
     "name": "stdout",
     "output_type": "stream",
     "text": [
      "<class 'int'>\n",
      "<class 'str'>\n"
     ]
    }
   ],
   "source": [
    "a = 31\n",
    "\n",
    "print(type(a))     #class<int>\n",
    "\n",
    "b = '31'\n",
    "\n",
    "print(type(b))     #class<str>"
   ]
  },
  {
   "cell_type": "code",
   "execution_count": null,
   "id": "7b68af81",
   "metadata": {},
   "outputs": [
    {
     "name": "stdout",
     "output_type": "stream",
     "text": [
      "31\n",
      "32\n",
      "32.0\n"
     ]
    }
   ],
   "source": [
    "print(str(31))   # \"31\" Integer to string conversion\n",
    "\n",
    "print(int(\"32\"))        # 32 String to int conversion\n",
    "\n",
    "print(float(32))       #32.0 Integer to float conversion"
   ]
  },
  {
   "attachments": {},
   "cell_type": "markdown",
   "id": "6211ea47",
   "metadata": {},
   "source": [
    "## Operators in Python"
   ]
  },
  {
   "cell_type": "raw",
   "id": "ebd90f92",
   "metadata": {},
   "source": [
    "The following are some common operators in Python:\n",
    "\n",
    "Arithmetic Operators (+, -, *, /, etc.)\n",
    "Assignment Operators (=, +=, -=, etc.)\n",
    "Comparison Operators (==, >=, <=, >, <, !=, etc.)\n",
    "Logical Operators (and, or, not)"
   ]
  },
  {
   "cell_type": "code",
   "execution_count": 13,
   "id": "674b57ec",
   "metadata": {},
   "outputs": [
    {
     "data": {
      "text/plain": [
       "5"
      ]
     },
     "execution_count": 13,
     "metadata": {},
     "output_type": "execute_result"
    }
   ],
   "source": [
    "2+3"
   ]
  },
  {
   "cell_type": "code",
   "execution_count": 14,
   "id": "dd71ff6f",
   "metadata": {},
   "outputs": [
    {
     "data": {
      "text/plain": [
       "True"
      ]
     },
     "execution_count": 14,
     "metadata": {},
     "output_type": "execute_result"
    }
   ],
   "source": [
    "2==2"
   ]
  },
  {
   "cell_type": "code",
   "execution_count": 17,
   "id": "bc15469c",
   "metadata": {},
   "outputs": [
    {
     "data": {
      "text/plain": [
       "True"
      ]
     },
     "execution_count": 17,
     "metadata": {},
     "output_type": "execute_result"
    }
   ],
   "source": [
    "2>=2"
   ]
  },
  {
   "cell_type": "code",
   "execution_count": 18,
   "id": "d5a8404a",
   "metadata": {},
   "outputs": [
    {
     "data": {
      "text/plain": [
       "False"
      ]
     },
     "execution_count": 18,
     "metadata": {},
     "output_type": "execute_result"
    }
   ],
   "source": [
    "2<=1"
   ]
  },
  {
   "cell_type": "code",
   "execution_count": 19,
   "id": "aee62309",
   "metadata": {},
   "outputs": [
    {
     "data": {
      "text/plain": [
       "2"
      ]
     },
     "execution_count": 19,
     "metadata": {},
     "output_type": "execute_result"
    }
   ],
   "source": [
    "2%4"
   ]
  },
  {
   "cell_type": "code",
   "execution_count": 20,
   "id": "11a8a4f6",
   "metadata": {},
   "outputs": [
    {
     "data": {
      "text/plain": [
       "True"
      ]
     },
     "execution_count": 20,
     "metadata": {},
     "output_type": "execute_result"
    }
   ],
   "source": [
    "3!=7"
   ]
  },
  {
   "cell_type": "code",
   "execution_count": 21,
   "id": "0fec002b",
   "metadata": {},
   "outputs": [
    {
     "data": {
      "text/plain": [
       "1"
      ]
     },
     "execution_count": 21,
     "metadata": {},
     "output_type": "execute_result"
    }
   ],
   "source": [
    "2//2   #give int vale"
   ]
  },
  {
   "cell_type": "code",
   "execution_count": 22,
   "id": "27b9a23f",
   "metadata": {},
   "outputs": [
    {
     "data": {
      "text/plain": [
       "1.0"
      ]
     },
     "execution_count": 22,
     "metadata": {},
     "output_type": "execute_result"
    }
   ],
   "source": [
    "2/2   # give float value"
   ]
  },
  {
   "attachments": {},
   "cell_type": "markdown",
   "id": "2a62f37e",
   "metadata": {},
   "source": [
    "## input() function\n",
    "\n",
    "This function allows the user to take input from the keyboard as a string."
   ]
  },
  {
   "cell_type": "code",
   "execution_count": null,
   "id": "96977a3d",
   "metadata": {},
   "outputs": [],
   "source": [
    "name = input(\"Enter name\")              # user entered name"
   ]
  },
  {
   "cell_type": "code",
   "execution_count": 14,
   "id": "59c0134b",
   "metadata": {},
   "outputs": [
    {
     "name": "stdout",
     "output_type": "stream",
     "text": [
      "Enter the number A 29\n",
      "enter the number B 097\n",
      "126\n"
     ]
    }
   ],
   "source": [
    "## input type\n",
    "\n",
    "a=input(\"Enter the number A \")\n",
    "b=input(\"enter the number B \") \n",
    "print(int(a)+int(b))"
   ]
  },
  {
   "attachments": {},
   "cell_type": "markdown",
   "id": "850e02c6",
   "metadata": {},
   "source": [
    "## Complex Numbers"
   ]
  },
  {
   "cell_type": "code",
   "execution_count": 15,
   "id": "cd3c1448",
   "metadata": {},
   "outputs": [
    {
     "data": {
      "text/plain": [
       "(1-2.3j)"
      ]
     },
     "execution_count": 15,
     "metadata": {},
     "output_type": "execute_result"
    }
   ],
   "source": [
    "##complex numbers\n",
    "\n",
    "j=1.0-2.3j\n",
    "j"
   ]
  },
  {
   "cell_type": "code",
   "execution_count": 16,
   "id": "ae7a8f03",
   "metadata": {},
   "outputs": [
    {
     "name": "stdout",
     "output_type": "stream",
     "text": [
      "1.0 -2.3\n"
     ]
    }
   ],
   "source": [
    "print(j.real,j.imag)"
   ]
  },
  {
   "cell_type": "code",
   "execution_count": 28,
   "id": "a70cf8f8",
   "metadata": {},
   "outputs": [
    {
     "data": {
      "text/plain": [
       "'Usama'"
      ]
     },
     "execution_count": 28,
     "metadata": {},
     "output_type": "execute_result"
    }
   ],
   "source": [
    "#Dynamic Typing || we can change a variable int , string , float etc\n",
    "a=10\n",
    "a='Usama'\n",
    "a"
   ]
  },
  {
   "cell_type": "code",
   "execution_count": 29,
   "id": "b18b86d4",
   "metadata": {},
   "outputs": [
    {
     "data": {
      "text/plain": [
       "'Usama'"
      ]
     },
     "execution_count": 29,
     "metadata": {},
     "output_type": "execute_result"
    }
   ],
   "source": [
    "#strong typing\n",
    "a=\"Usama\"\n",
    "a"
   ]
  },
  {
   "cell_type": "code",
   "execution_count": 30,
   "id": "6d9f2e0e",
   "metadata": {},
   "outputs": [
    {
     "data": {
      "text/plain": [
       "'Usama1'"
      ]
     },
     "execution_count": 30,
     "metadata": {},
     "output_type": "execute_result"
    }
   ],
   "source": [
    "a + \"w\"\n",
    "# a + 1  # error, we cant concatenate str and int \n",
    "a + str(1)"
   ]
  },
  {
   "cell_type": "code",
   "execution_count": null,
   "id": "c877588c",
   "metadata": {},
   "outputs": [
    {
     "name": "stdout",
     "output_type": "stream",
     "text": [
      "The first name is Usama and last name is Wajid\n"
     ]
    }
   ],
   "source": [
    "first_name=\"Usama\"\n",
    "last_name=\"Wajid\"\n",
    "print(\"The first name is {a} and last name is {b}\".format(b=last_name,a=first_name))"
   ]
  },
  {
   "cell_type": "code",
   "execution_count": 21,
   "id": "2dd8db57",
   "metadata": {},
   "outputs": [
    {
     "name": "stdout",
     "output_type": "stream",
     "text": [
      "The values is -  100\n"
     ]
    }
   ],
   "source": [
    "#string Formatting\n",
    "\n",
    "a=100\n",
    "print(\"The values is - \",a)"
   ]
  },
  {
   "cell_type": "code",
   "execution_count": null,
   "id": "ae123c23",
   "metadata": {},
   "outputs": [],
   "source": []
  }
 ],
 "metadata": {
  "kernelspec": {
   "display_name": "Python 3 (ipykernel)",
   "language": "python",
   "name": "python3"
  },
  "language_info": {
   "codemirror_mode": {
    "name": "ipython",
    "version": 3
   },
   "file_extension": ".py",
   "mimetype": "text/x-python",
   "name": "python",
   "nbconvert_exporter": "python",
   "pygments_lexer": "ipython3",
   "version": "3.10.9"
  }
 },
 "nbformat": 4,
 "nbformat_minor": 5
}
