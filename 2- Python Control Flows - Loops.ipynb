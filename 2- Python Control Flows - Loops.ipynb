{
 "cells": [
  {
   "cell_type": "markdown",
   "id": "b107c570",
   "metadata": {},
   "source": [
    "## Python Control Flows"

   ]
  },
  {
   "cell_type": "code",
   "execution_count": 1,
   "id": "0b50ab58",
   "metadata": {},
   "outputs": [
    {
     "name": "stdout",
     "output_type": "stream",
     "text": [
      "number is not 10\n"
     ]
    }
   ],
   "source": [
    "# if statment\n",
    "a=12\n",
    "if (a == 10):\n",
    "    print(\"number is 10\")\n",
    "    \n",
    "else:\n",
    "    print(\"number is not 10\")"
   ]
  },
  {
   "cell_type": "code",
   "execution_count": 2,
   "id": "7643a7f4",
   "metadata": {},
   "outputs": [
    {
     "name": "stdout",
     "output_type": "stream",
     "text": [
      "Enter a Number: 6\n",
      "Number is even\n"
     ]
    }
   ],
   "source": [
    "#  Number is Even or odd\n",
    "\n",
    "val  = input('Enter a Number: ')\n",
    "value_float = float(val)\n",
    "\n",
    "if (value_float%2==0):\n",
    "    print(\"Number is even\")\n",
    "else:\n",
    "    print(\"Number is odd\")\n"
   ]
  },
  {
   "cell_type": "markdown",
   "id": "e6e398f8",
   "metadata": {},
   "source": [
    "##  Nested if"
   ]
  },
  {
   "cell_type": "code",
   "execution_count": 3,
   "id": "f61630da",
   "metadata": {},
   "outputs": [
    {
     "name": "stdout",
     "output_type": "stream",
     "text": [
      "Enter your age: 8\n",
      "Minor age\n"
     ]
    }
   ],
   "source": [
    "## Age form\n",
    "##nested if else condition\n",
    "\n",
    "age = float(input(\"Enter your age: \"))\n",
    "\n",
    "if (age<=18):\n",
    "    print('Minor age')\n",
    "elif(age>=18 and age<=45):\n",
    "        print('Mid age')\n",
    "elif(age>45 and age<=50):\n",
    "    print('Senior Mid Age')\n",
    "else:\n",
    "    print('Senior Citizan')"
   ]
  },
  {
   "cell_type": "code",
   "execution_count": 4,
   "id": "6adadc98",
   "metadata": {},
   "outputs": [
    {
     "name": "stdout",
     "output_type": "stream",
     "text": [
      "Enter the age98\n",
      "Senior Citizen\n"
     ]
    }
   ],
   "source": [
    "## Age form\n",
    "##nested if else condition\n",
    "\n",
    "age=float(input(\"Enter the age\"))\n",
    "\n",
    "if(age<18):\n",
    "    print(\"Minor Age\")\n",
    "elif(age>=18 and age<=45):\n",
    "    print(\"Mid Age\")\n",
    "elif(age>45 and age<=50):\n",
    "    print(\"Senior Mid Age\")\n",
    "else: \n",
    "    print(\"Senior Citizen\")"
   ]
  },
  {
   "cell_type": "code",
   "execution_count": 5,
   "id": "0247c398",
   "metadata": {},
   "outputs": [
    {
     "name": "stdout",
     "output_type": "stream",
     "text": [
      "Enter the age: 6\n",
      "Minor Age\n",
      "You are in School\n"
     ]
    }
   ],
   "source": [
    "# nested iflese\n",
    "\n",
    "age=float(input(\"Enter the age: \"))\n",
    "\n",
    "if(age<18):\n",
    "    print(\"Minor Age\")\n",
    "    if(age<15):\n",
    "        print(\"You are in School\")\n",
    "    else:\n",
    "        print(\"You are in College\")\n",
    "elif(age>=18 and age<=45):\n",
    "    print(\"Mid Age\")\n",
    "elif(age>45 and age<=50):\n",
    "    print(\"Senior Mid Age\")\n",
    "else: \n",
    "    print(\"Senior Citizen\")"
   ]
  },
  {
   "cell_type": "markdown",
   "id": "9a2e6012",
   "metadata": {},
   "source": [
    " ## -----------------------------------------------------\n",
    "# Loops statements\n",
    " ## -----------------------------------------------------\n",
    "# for loop"
   ]
  },
  {
   "cell_type": "raw",
   "id": "80fd71c5",
   "metadata": {},
   "source": [
    "for val in sequence:\n",
    "     statement(s)"
   ]
  },
  {
   "cell_type": "code",
   "execution_count": 6,
   "id": "a8a805ff",
   "metadata": {},
   "outputs": [
    {
     "name": "stdout",
     "output_type": "stream",
     "text": [
      "1\n",
      "2\n",
      "3\n",
      "4\n",
      "5\n",
      "6\n",
      "7\n"
     ]
    }
   ],
   "source": [
    "# for loop\n",
    "\n",
    "list_num = [1,2,3,4,5,6,7]\n",
    "for i in list_num:\n",
    "    print(i)"
   ]
  },
  {
   "cell_type": "code",
   "execution_count": 7,
   "id": "9ad5b9aa",
   "metadata": {},
   "outputs": [
    {
     "name": "stdout",
     "output_type": "stream",
     "text": [
      "1\n",
      "16\n",
      "81\n",
      "256\n",
      "625\n",
      "1296\n",
      "2401\n"
     ]
    }
   ],
   "source": [
    "list_num =[1,2,3,4,5,6,7]\n",
    "\n",
    "for i in list_num:\n",
    "    print(i**4)"
   ]
  },
  {
   "cell_type": "code",
   "execution_count": 8,
   "id": "5eb4c396",
   "metadata": {},
   "outputs": [
    {
     "name": "stdout",
     "output_type": "stream",
     "text": [
      "P\n",
      "y\n",
      "t\n",
      "h\n",
      "o\n",
      "n\n"
     ]
    }
   ],
   "source": [
    "#  Loop Through a String\n",
    "\n",
    "for x in 'Python':\n",
    "    print(x)"
   ]
  },
  {
   "cell_type": "markdown",
   "id": "a5532f7b",
   "metadata": {},
   "source": [
    " Python for Loop with Python range()\n",
    " \n",
    "A range is a series of values between two numeric intervals.\n",
    "We use Python's built-in function range() to define a range of values. For example,\n",
    "values = range(4)"
   ]
  },
  {
   "cell_type": "code",
   "execution_count": 9,
   "id": "a878e35c",
   "metadata": {},
   "outputs": [
    {
     "name": "stdout",
     "output_type": "stream",
     "text": [
      "0\n",
      "1\n",
      "2\n",
      "3\n"
     ]
    }
   ],
   "source": [
    "#  Python for Loop with Python range()\n",
    "#  '''  \n",
    "#     A range is a series of values between two numeric intervals.\n",
    "#     We use Python's built-in function range() to define a range of values. For example,\n",
    "#     values = range(4)\n",
    "#  '''\n",
    "\n",
    "values = range(4)\n",
    "\n",
    "# '''\n",
    "#     Here, 4 inside range() defines a range containing values 0, 1, 2, 3.\n",
    "#     In Python, we can use for loop to iterate over a range. For example,\n",
    "# '''\n",
    "\n",
    "\n",
    "# iterate from i = 0 to i = 3\n",
    "for i in values:\n",
    "    print(i)"
   ]
  },
  {
   "cell_type": "raw",
   "id": "a945973a",
   "metadata": {},
   "source": []
  },
  {
   "cell_type": "code",
   "execution_count": 10,
   "id": "de0a7ec8",
   "metadata": {},
   "outputs": [
    {
     "name": "stdout",
     "output_type": "stream",
     "text": [
      "Hello\n",
      "Hi\n",
      "Hello\n",
      "Hi\n",
      "Hello\n",
      "Hi\n"
     ]
    }
   ],
   "source": [
    "languages = ['Swift', 'Python', 'Go']\n",
    "\n",
    "for _ in languages:\n",
    "    print('Hello')\n",
    "    print('Hi')\n",
    "    \n",
    "# the _ symbol is used to denote that the elements of a sequence will not be used within the loop body."
   ]
  },
  {
   "cell_type": "code",
   "execution_count": 11,
   "id": "a89d37d0",
   "metadata": {},
   "outputs": [
    {
     "name": "stdout",
     "output_type": "stream",
     "text": [
      "0\n",
      "1\n",
      "5\n",
      "No items left.\n"
     ]
    }
   ],
   "source": [
    "digits = [0, 1, 5]\n",
    "\n",
    "for i in digits:\n",
    "    print(i)\n",
    "else:\n",
    "    print(\"No items left.\")"
   ]
  },
  {
   "cell_type": "markdown",
   "id": "b3743e09",
   "metadata": {},
   "source": [
    "## While Loop "
   ]
  },
  {
   "cell_type": "raw",
   "id": "6b6e9ec7",
   "metadata": {},
   "source": [
    "Python while loop is used to run a block code until a certain condition is met.\n",
    "Syntax of while loop is:\n",
    "\n",
    "while condition:\n",
    "     body of while loop\n",
    "    "
   ]
  },
  {
   "cell_type": "code",
   "execution_count": 12,
   "id": "64211706",
   "metadata": {},
   "outputs": [
    {
     "name": "stdout",
     "output_type": "stream",
     "text": [
      "1\n",
      "2\n",
      "3\n",
      "4\n",
      "5\n"
     ]
    }
   ],
   "source": [
    "# program to display numbers from 1 to 5\n",
    "\n",
    "# initialize the variable\n",
    "i = 1\n",
    "n = 5\n",
    "\n",
    "# while loop from i = 1 to 5\n",
    "while i <= n:\n",
    "    print(i)\n",
    "    i = i + 1"
   ]
  },
  {
   "cell_type": "code",
   "execution_count": 13,
   "id": "6ac104e1",
   "metadata": {},
   "outputs": [
    {
     "name": "stdout",
     "output_type": "stream",
     "text": [
      "0\n",
      "1\n",
      "2\n",
      "3\n",
      "4\n",
      "5\n",
      "6\n",
      "7\n",
      "8\n",
      "9\n",
      "10\n"
     ]
    }
   ],
   "source": [
    "# another while loop simple exp:\n",
    "\n",
    "i = 0\n",
    "while (i<=10):\n",
    "    print(i)\n",
    "    i=i+1"
   ]
  },
  {
   "cell_type": "code",
   "execution_count": 14,
   "id": "7e15ab9d",
   "metadata": {},
   "outputs": [
    {
     "name": "stdout",
     "output_type": "stream",
     "text": [
      "Enter a number: 78\n",
      "Enter a number: 5\n",
      "Enter a number: 0\n",
      "total = 83\n"
     ]
    }
   ],
   "source": [
    "# program to calculate the sum of numbers\n",
    "# until the user enters zero\n",
    "\n",
    "total = 0\n",
    "number = int(input('Enter a number: '))\n",
    "\n",
    "# add numbers until number is zero\n",
    "while number != 0:\n",
    "    total += number    # total = total + number\n",
    "    \n",
    "    # take integer input again\n",
    "    number = int(input('Enter a number: '))\n",
    "    \n",
    "\n",
    "print('total =', total)"
   ]
  },
  {
   "cell_type": "code",
   "execution_count": 15,
   "id": "ec785155",
   "metadata": {},
   "outputs": [
    {
     "name": "stdout",
     "output_type": "stream",
     "text": [
      "56 64\n"
     ]
    }
   ],
   "source": [
    "# if else in while loop \n",
    "\n",
    "i = 0\n",
    "even_sum = 0\n",
    "odd_sum = 0\n",
    "\n",
    "while (i<=15):\n",
    "    \n",
    "    if(i%2==0):\n",
    "        even_sum = even_sum + i\n",
    "    else:\n",
    "        odd_sum = odd_sum + i\n",
    "    \n",
    "    i=i+1\n",
    "print( even_sum , odd_sum)"
   ]
  },
  {
   "cell_type": "code",
   "execution_count": 16,
   "id": "5bf42965",
   "metadata": {},
   "outputs": [
    {
     "name": "stdout",
     "output_type": "stream",
     "text": [
      "1\n",
      "2\n",
      "3\n"
     ]
    }
   ],
   "source": [
    "##break\n",
    "x=1\n",
    "while(x<7):\n",
    "    \n",
    "    if x==4:\n",
    "        break\n",
    "    print(x)\n",
    "    x=x+1"
   ]
  },
  {
   "cell_type": "code",
   "execution_count": 17,
   "id": "4042d5d9",
   "metadata": {},
   "outputs": [
    {
     "name": "stdout",
     "output_type": "stream",
     "text": [
      "Inside loop\n"
     ]
    }
   ],
   "source": [
    "counter = 0\n",
    "\n",
    "while counter < 3:\n",
    "    # loop ends because of break\n",
    "    # the else part is not executed \n",
    "    if counter == 1:\n",
    "        break\n",
    "\n",
    "    print('Inside loop')\n",
    "    counter = counter + 1\n",
    "else:\n",
    "    print('Inside else')"
   ]
  },
  {
   "cell_type": "code",
   "execution_count": 18,
   "id": "b948b9ec",
   "metadata": {},
   "outputs": [
    {
     "name": "stdout",
     "output_type": "stream",
     "text": [
      "1\n",
      "2\n",
      "3\n",
      "5\n",
      "6\n",
      "7\n"
     ]
    }
   ],
   "source": [
    "## continue\n",
    "x=0\n",
    "while x<7:\n",
    "    x=x+1\n",
    "    if x==4:\n",
    "        continue\n",
    "    print(x)\n",
    "    "
   ]
  },
  {
   "cell_type": "code",
   "execution_count": null,
   "id": "302de9a2",
   "metadata": {},
   "outputs": [],
   "source": []
  }
 ],
 "metadata": {
  "kernelspec": {
   "display_name": "Python 3 (ipykernel)",
   "language": "python",
   "name": "python3"
  },
  "language_info": {
   "codemirror_mode": {
    "name": "ipython",
    "version": 3
   },
   "file_extension": ".py",
   "mimetype": "text/x-python",
   "name": "python",
   "nbconvert_exporter": "python",
   "pygments_lexer": "ipython3",
   "version": "3.10.9"
  }
 },
 "nbformat": 4,
 "nbformat_minor": 5
}
