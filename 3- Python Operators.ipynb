{
 "cells": [
  {
   "cell_type": "markdown",
   "id": "e5cde924",
   "metadata": {},
   "source": [
    "## Python Operators\n",
    "\n",
    "Python Operators\n",
    "- Logical\n",
    "- Equality\n",
    "- Comparision\n",
    "- Arithmetic\n"
   ]
  },
  {
   "cell_type": "markdown",
   "id": "363501b9",
   "metadata": {},
   "source": [

    "##  Logical operators\n",
    "Logical operators in Python are used to combine or manipulate Boolean values (True or False). Here are the three main logical operators in Python:\n",
    "\n",
    "and: The and operator returns True if both operands are True, otherwise, it returns False.\n",
    "\n",
    "or: The or operator returns True if at least one of the operands is True, otherwise, it returns False.\n",
    "\n",
    "not: The not operator returns the opposite of the Boolean value of the operand. If the operand is True, not returns False, and vice versa."
   ]
  },
  {
   "cell_type": "code",
   "execution_count": 1,
   "id": "f5dd2a78",
   "metadata": {},
   "outputs": [
    {
     "data": {
      "text/plain": [
       "bool"
      ]
     },
     "execution_count": 1,
     "metadata": {},
     "output_type": "execute_result"
    }
   ],
   "source": [
    "type(False)"
   ]
  },
  {
   "cell_type": "code",
   "execution_count": 2,
   "id": "d867b6ff",
   "metadata": {},
   "outputs": [
    {
     "data": {
      "text/plain": [
       "True"
      ]
     },
     "execution_count": 2,
     "metadata": {},
     "output_type": "execute_result"
    }
   ],
   "source": [
    "bool(1)\n"
   ]
  },
  {
   "cell_type": "code",
   "execution_count": 3,
   "id": "6e23e2f5",
   "metadata": {},
   "outputs": [],
   "source": [
    "a=True\n",
    "b=False"
   ]
  },
  {
   "cell_type": "code",
   "execution_count": 4,
   "id": "bb24af3a",
   "metadata": {},
   "outputs": [
    {
     "data": {
      "text/plain": [
       "False"
      ]
     },
     "execution_count": 4,
     "metadata": {},
     "output_type": "execute_result"
    }
   ],
   "source": [
    "True and False"
   ]
  },
  {
   "cell_type": "code",
   "execution_count": 5,
   "id": "d533b31b",
   "metadata": {},
   "outputs": [
    {
     "data": {
      "text/plain": [
       "True"
      ]
     },
     "execution_count": 5,
     "metadata": {},
     "output_type": "execute_result"
    }
   ],
   "source": [
    "not False"
   ]
  },
  {
   "cell_type": "code",
   "execution_count": 6,
   "id": "fd14b0f9",
   "metadata": {},
   "outputs": [
    {
     "name": "stdout",
     "output_type": "stream",
     "text": [
      "Enter the age34\n"
     ]
    }
   ],
   "source": [
    "age=int(input(\"Enter the age\"))\n",
    "if age<18 or age>=35:\n",
    "    print(\"Successful execution\")"
   ]
  },
  {
   "cell_type": "markdown",
   "id": "86119217",
   "metadata": {},
   "source": [
    "In this example, we have two variables x and y, and we demonstrate the use of logical operators and, or, and not to evaluate different conditions based on their Boolean values."
   ]
  },
  {
   "cell_type": "code",
   "execution_count": 7,
   "id": "394d5d84",
   "metadata": {},
   "outputs": [
    {
     "name": "stdout",
     "output_type": "stream",
     "text": [
      "Both conditions are True\n",
      "Both conditions are False\n",
      "x is not equal to 5\n"
     ]
    }
   ],
   "source": [
    "# Logical Operators Example\n",
    "\n",
    "x = 10\n",
    "y = 5\n",
    "\n",
    "# Using the and operator\n",
    "\n",
    "if x > 5 and y < 8:\n",
    "    print(\"Both conditions are True\")\n",
    "else:\n",
    "    print(\"At least one condition is False\")\n",
    "\n",
    "# Using the or operator\n",
    "\n",
    "if x > 12 or y > 8:\n",
    "    print(\"At least one condition is True\")\n",
    "else:\n",
    "    print(\"Both conditions are False\")\n",
    "\n",
    "# Using the not operator\n",
    "if not x == 5:\n",
    "    print(\"x is not equal to 5\")\n",
    "else:\n",
    "    print(\"x is equal to 5\")\n"
   ]
  },
  {
   "cell_type": "markdown",
   "id": "4d7826cb",
   "metadata": {},
   "source": [
    "## Equality Operators"
   ]
  },
  {
   "cell_type": "markdown",
   "id": "064d10be",
   "metadata": {},
   "source": [
    "Equality operators are used to compare two values and check if they are equal or not. They return a boolean value (True or False) based on the comparison. The main equality operators are:\n",
    "\n",
    "- is\n",
    "- is not\n",
    "- ==\n",
    "- !=\n",
    "\n",
    "\n",
    "In Python, the four comparison operators you provided are used for different types of comparisons:\n",
    "\n",
    "1. \"is\": The \"is\" operator is used to check if two variables refer to the same object in memory.\n",
    "\n",
    "Example:\n",
    "```python\n",
    "x = [1, 2, 3]\n",
    "y = x\n",
    "\n",
    "print(x is y)  # Output: True, x and y refer to the same list object\n",
    "```\n",
    "\n",
    "2. \"is not\": The \"is not\" operator checks if two variables do not refer to the same object in memory.\n",
    "\n",
    "Example:\n",
    "```python\n",
    "x = [1, 2, 3]\n",
    "y = [1, 2, 3]\n",
    "\n",
    "print(x is not y)  # Output: True, x and y do not refer to the same list object\n",
    "```\n",
    "\n",
    "3. \"==\": The \"==\" operator checks if two values are equal.\n",
    "\n",
    "Example:\n",
    "```python\n",
    "x = 5\n",
    "y = 5\n",
    "\n",
    "print(x == y)  # Output: True, x and y have the same value\n",
    "```\n",
    "\n",
    "4. \"!=\": The \"!=\" operator checks if two values are not equal.\n",
    "\n",
    "Example:\n",
    "```python\n",
    "x = 10\n",
    "y = 5\n",
    "\n",
    "print(x != y)  # Output: True, x and y have different values\n",
    "```\n",
    "\n",
    "These comparison operators are used to perform various checks and conditional evaluations in Python programs."
   ]
  },
  {
   "cell_type": "code",
   "execution_count": 8,
   "id": "690e0d70",
   "metadata": {},
   "outputs": [
    {
     "data": {
      "text/plain": [
       "False"
      ]
     },
     "execution_count": 8,
     "metadata": {},
     "output_type": "execute_result"
    }
   ],
   "source": [
    "a=\"Ayman\"\n",
    "b=\"Ayman1\"\n",
    "\n",
    "a==b"
   ]
  },
  {
   "cell_type": "code",
   "execution_count": 9,
   "id": "492393c1",
   "metadata": {},
   "outputs": [
    {
     "name": "stdout",
     "output_type": "stream",
     "text": [
      "Enter the age34\n"
     ]
    }
   ],
   "source": [
    "age=int(input(\"Enter the age\"))\n",
    "\n",
    "if age==18:\n",
    "    print(\"You are in the teenager age\")"
   ]
  },
  {
   "cell_type": "markdown",
   "id": "68a5ffe0",
   "metadata": {},
   "source": [
    "In Python, the \"is\" keyword is used for object identity comparison, meaning it checks if two objects refer to the same memory location. It returns True if two objects have the same identity and False otherwise. For example: a = [1, 2, 3] b = a print(a is b) # Output: True"
   ]
  },
  {
   "cell_type": "code",
   "execution_count": 10,
   "id": "7ac11839",
   "metadata": {},
   "outputs": [
    {
     "name": "stdout",
     "output_type": "stream",
     "text": [
      "1696043708016\n",
      "1696043708016\n"
     ]
    }
   ],
   "source": [
    "#  same index\n",
    "\n",
    "a=\"Ayman\"\n",
    "b=\"Ayman\"\n",
    "print(id(a))\n",
    "print(id(b))"
   ]
  },
  {
   "cell_type": "code",
   "execution_count": 11,
   "id": "ed0e82b4",
   "metadata": {},
   "outputs": [
    {
     "data": {
      "text/plain": [
       "True"
      ]
     },
     "execution_count": 11,
     "metadata": {},
     "output_type": "execute_result"
    }
   ],
   "source": [
    "a is b"
   ]
  },
  {
   "cell_type": "code",
   "execution_count": 12,
   "id": "2bdba56c",
   "metadata": {},
   "outputs": [
    {
     "data": {
      "text/plain": [
       "True"
      ]
     },
     "execution_count": 12,
     "metadata": {},
     "output_type": "execute_result"
    }
   ],
   "source": [
    "a == b"
   ]
  },
  {
   "cell_type": "code",
   "execution_count": 13,
   "id": "d026035c",
   "metadata": {},
   "outputs": [
    {
     "name": "stdout",
     "output_type": "stream",
     "text": [
      "1696043538688\n",
      "1696043535232\n"
     ]
    }
   ],
   "source": [
    "lst=[1,2,3]\n",
    "lst1=[1,2,3]\n",
    "print(id(lst))\n",
    "print(id(lst1))"
   ]
  },
  {
   "cell_type": "code",
   "execution_count": 14,
   "id": "a86b75f7",
   "metadata": {},
   "outputs": [
    {
     "data": {
      "text/plain": [
       "False"
      ]
     },
     "execution_count": 14,
     "metadata": {},
     "output_type": "execute_result"
    }
   ],
   "source": [
    "#  False because memory location is not same\n",
    "\n",
    "lst is lst1"
   ]
  },
  {
   "cell_type": "code",
   "execution_count": 15,
   "id": "26123a32",
   "metadata": {},
   "outputs": [
    {
     "data": {
      "text/plain": [
       "True"
      ]
     },
     "execution_count": 15,
     "metadata": {},
     "output_type": "execute_result"
    }
   ],
   "source": [
    "lst is not lst1"
   ]
  },
  {
   "cell_type": "code",
   "execution_count": 16,
   "id": "9ae5e545",
   "metadata": {},
   "outputs": [
    {
     "data": {
      "text/plain": [
       "True"
      ]
     },
     "execution_count": 16,
     "metadata": {},
     "output_type": "execute_result"
    }
   ],
   "source": [
    "# True because, both (lst and lst1) have same value\n",
    "\n",
    "lst == lst1"
   ]
  },
  {
   "cell_type": "code",
   "execution_count": 17,
   "id": "faf4bae2",
   "metadata": {},
   "outputs": [
    {
     "data": {
      "text/plain": [
       "True"
      ]
     },
     "execution_count": 17,
     "metadata": {},
     "output_type": "execute_result"
    }
   ],
   "source": [
    "'abc' != 'xyz'"
   ]
  },
  {
   "cell_type": "markdown",
   "id": "8e8cf626",
   "metadata": {},
   "source": [
    "## Comparison Operators\n",
    "\n",
    "Comparison operators in Python are used to compare two values and return a Boolean value (True or False) based on the comparison. Here are the common comparison operators in Python:\n",
    "\n",
    "1. Equal to (==): Checks if two values are equal.\n",
    "\n",
    "2. Not equal to (!=): Checks if two values are not equal.\n",
    "\n",
    "3. Greater than (>): Checks if the left operand is greater than the right operand.\n",
    "\n",
    "4. Less than (<): Checks if the left operand is less than the right operand.\n",
    "\n",
    "5. Greater than or equal to (>=): Checks if the left operand is greater than or equal to the right operand.\n",
    "\n",
    "6. Less than or equal to (<=): Checks if the left operand is less than or equal to the right operand.\n",
    "\n",
    "These operators are often used in conditional statements and loops to control the flow of a program based on different conditions. For example:\n",
    "\n",
    "```python\n",
    "x = 10\n",
    "y = 5\n",
    "\n",
    "# Comparison examples\n",
    "print(x == y)   # False, x is not equal to y\n",
    "print(x != y)   # True, x is not equal to y\n",
    "print(x > y)    # True, x is greater than y\n",
    "print(x < y)    # False, x is not less than y\n",
    "print(x >= y)   # True, x is greater than or equal to y\n",
    "print(x <= y)   # False, x is not less than or equal to y\n",
    "```\n",
    "\n",
    "These operators play a vital role in decision-making and filtering data in various data science tasks."
   ]
  },
  {
   "cell_type": "code",
   "execution_count": 18,
   "id": "e1be69ee",
   "metadata": {},
   "outputs": [
    {
     "name": "stdout",
     "output_type": "stream",
     "text": [
      "Enter the marks30\n",
      "Fail\n"
     ]
    }
   ],
   "source": [
    "marks= float(input(\"Enter the marks\"))\n",
    "\n",
    "if marks>=35:\n",
    "    print(\"Pass\")\n",
    "    if marks>=50 and marks<=70:\n",
    "        print(\"First\")\n",
    "elif marks<35:\n",
    "    print(\"Fail\")"
   ]
  },
  {
   "cell_type": "markdown",
   "id": "ba2b6479",
   "metadata": {},
   "source": [
    "In this example, we have a list of numbers, and we use a for loop to iterate through each number. Inside the loop, we check each number using different comparison operators (==, !=, >, <, >=, <=) and print the corresponding message based on the comparison result."
   ]
  },
  {
   "cell_type": "code",
   "execution_count": 19,
   "id": "b6cf271a",
   "metadata": {},
   "outputs": [
    {
     "name": "stdout",
     "output_type": "stream",
     "text": [
      "2 is not equal to 10\n",
      "5 is equal to 5\n",
      "8 is not equal to 10\n",
      "10 is greater than 5\n",
      "15 is not equal to 10\n"
     ]
    }
   ],
   "source": [
    "# Example - For Loop with Comparison Operators\n",
    "\n",
    "numbers = [2, 5, 8, 10, 15]\n",
    "\n",
    "# Loop through the list and check each number using comparison operators\n",
    "for num in numbers:\n",
    "    if num == 5:\n",
    "        print(f\"{num} is equal to 5\")\n",
    "    elif num != 10:\n",
    "        print(f\"{num} is not equal to 10\")\n",
    "    elif num > 5:\n",
    "        print(f\"{num} is greater than 5\")\n",
    "    elif num < 10:\n",
    "        print(f\"{num} is less than 10\")\n",
    "    elif num >= 8:\n",
    "        print(f\"{num} is greater than or equal to 8\")\n",
    "    elif num <= 15:\n",
    "        print(f\"{num} is less than or equal to 15\")\n",
    "    else:\n",
    "        print(f\"Number {num} does not match any condition\")\n"
   ]
  },
  {
   "cell_type": "markdown",
   "id": "0086880a",
   "metadata": {},
   "source": [
    "## 4. Arithmetic Operators:\n",
    "Arithmetic operators are used to perform mathematical operations on numbers. They include addition, subtraction, multiplication, division, modulus, and exponentiation. The main arithmetic operators are:\n",
    "- `+`: Addition - Adds two numbers together.\n",
    "- `-`: Subtraction - Subtracts the second number from the first.\n",
    "- `*`: Multiplication - Multiplies two numbers.\n",
    "- `/`: Division - Divides the first number by the second.\n",
    "- `%`: Modulus - Returns the remainder of the division of the first number by the second.\n",
    "- `**`: Exponentiation - Raises the first number to the power of the second.\n"
   ]
  },
  {
   "cell_type": "code",
   "execution_count": 20,
   "id": "aa531a6c",
   "metadata": {},
   "outputs": [
    {
     "name": "stdout",
     "output_type": "stream",
     "text": [
      "8\n"
     ]
    }
   ],
   "source": [
    "# Addition\n",
    "\n",
    "x = 5\n",
    "y = 3\n",
    "\n",
    "result = x + y\n",
    "print(result) "
   ]
  },
  {
   "cell_type": "code",
   "execution_count": 21,
   "id": "8b7f2434",
   "metadata": {},
   "outputs": [
    {
     "name": "stdout",
     "output_type": "stream",
     "text": [
      "6\n"
     ]
    }
   ],
   "source": [
    "# Subtraction (-)\n",
    "\n",
    "x = 10\n",
    "y = 4\n",
    "\n",
    "result = x - y\n",
    "print(result) "
   ]
  },
  {
   "cell_type": "code",
   "execution_count": 22,
   "id": "fdaae2e2",
   "metadata": {},
   "outputs": [
    {
     "name": "stdout",
     "output_type": "stream",
     "text": [
      "15\n"
     ]
    }
   ],
   "source": [
    "# Multiply\n",
    "\n",
    "x = 3\n",
    "y = 5\n",
    "\n",
    "result = x * y\n",
    "print(result)"
   ]
  },
  {
   "cell_type": "code",
   "execution_count": 23,
   "id": "05a0a13c",
   "metadata": {},
   "outputs": [
    {
     "name": "stdout",
     "output_type": "stream",
     "text": [
      "5.0\n"
     ]
    }
   ],
   "source": [
    "# Division (/)\n",
    "\n",
    "x = 10\n",
    "y = 2\n",
    "\n",
    "result = x / y\n",
    "print(result)"
   ]
  },
  {
   "cell_type": "code",
   "execution_count": 24,
   "id": "2e888f4c",
   "metadata": {},
   "outputs": [
    {
     "name": "stdout",
     "output_type": "stream",
     "text": [
      "3\n"
     ]
    }
   ],
   "source": [
    "# Floor devision \n",
    "\n",
    "x = 10\n",
    "y = 3\n",
    "\n",
    "result = x // y\n",
    "print(result)"
   ]
  },
  {
   "cell_type": "code",
   "execution_count": 25,
   "id": "2a998900",
   "metadata": {},
   "outputs": [
    {
     "name": "stdout",
     "output_type": "stream",
     "text": [
      "1\n"
     ]
    }
   ],
   "source": [
    "# Modulus (%): Returns the remainder of the division of the left operand by the right operand.\n",
    "\n",
    "x = 10\n",
    "y = 3\n",
    "\n",
    "result = x % y\n",
    "print(result)"
   ]
  },
  {
   "cell_type": "code",
   "execution_count": 26,
   "id": "e736b9b8",
   "metadata": {},
   "outputs": [
    {
     "name": "stdout",
     "output_type": "stream",
     "text": [
      "8\n"
     ]
    }
   ],
   "source": [
    "# Exponentiation (**): Raises the left operand to the power of the right operand.\n",
    "# Example:\n",
    "\n",
    "x = 2\n",
    "y = 3\n",
    "\n",
    "result = x ** y\n",
    "print(result)"
   ]
  },
  {
   "cell_type": "code",
   "execution_count": 27,
   "id": "06a0c900",
   "metadata": {},
   "outputs": [
    {
     "name": "stdout",
     "output_type": "stream",
     "text": [
      "Sum: 13\n",
      "Difference: 7\n",
      "Product: 30\n",
      "Division: 3.3333333333333335\n",
      "Modulus: 1\n",
      "Exponentiation: 1000\n"
     ]
    }
   ],
   "source": [
    "# Arithmetic Operators Example\n",
    "a = 10\n",
    "b = 3\n",
    "\n",
    "# Addition\n",
    "sum_ab = a + b\n",
    "print(\"Sum:\", sum_ab)\n",
    "\n",
    "# Subtraction\n",
    "diff_ab = a - b\n",
    "print(\"Difference:\", diff_ab)\n",
    "\n",
    "# Multiplication\n",
    "product_ab = a * b\n",
    "print(\"Product:\", product_ab)\n",
    "\n",
    "# Division\n",
    "division_ab = a / b\n",
    "print(\"Division:\", division_ab)\n",
    "\n",
    "# Modulus\n",
    "mod_ab = a % b\n",
    "print(\"Modulus:\", mod_ab)\n",
    "\n",
    "# Exponentiation\n",
    "exp_ab = a ** b\n",
    "print(\"Exponentiation:\", exp_ab)\n"
   ]
  },
  {
   "cell_type": "code",
   "execution_count": null,
   "id": "2ec1ff55",
   "metadata": {},
   "outputs": [],
   "source": []
  }
 ],
 "metadata": {
  "kernelspec": {
   "display_name": "Python 3 (ipykernel)",
   "language": "python",
   "name": "python3"
  },
  "language_info": {
   "codemirror_mode": {
    "name": "ipython",
    "version": 3
   },
   "file_extension": ".py",
   "mimetype": "text/x-python",
   "name": "python",
   "nbconvert_exporter": "python",
   "pygments_lexer": "ipython3",
   "version": "3.11.3"
  }
 },
 "nbformat": 4,
 "nbformat_minor": 5
}
