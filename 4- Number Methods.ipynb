{
 "cells": [
  {
   "cell_type": "markdown",
   "id": "028f0f6e",
   "metadata": {},
   "source": [
    "## Python Number Method"
   ]
  },
  {
   "cell_type": "code",
   "execution_count": 1,
   "id": "8dcf5468",
   "metadata": {},
   "outputs": [
    {
     "data": {
      "text/plain": [
       "6"
      ]
     },
     "execution_count": 1 ,
     "metadata": {},
     "output_type": "execute_result"
    }
   ],
   "source": [
    "4+2"
   ]
  },
  {
   "cell_type": "markdown",
   "id": "ec0af128",
   "metadata": {},
   "source": [
    "##  Absolute method\n",
    "\n",
    "Python Absolute Value: The abs() function in Python returns the magnitude of a number, regardless of its sign. For example, abs(-5) gives 5. It's a valuable tool for handling numerical data in various programming domains."
   ]
  },
  {
   "cell_type": "code",
   "execution_count": 2,
   "id": "8f709e3b",
   "metadata": {},
   "outputs": [
    {
     "data": {
      "text/plain": [
       "20"
      ]
     },
     "execution_count": 2,
     "metadata": {},
     "output_type": "execute_result"
    }
   ],
   "source": [
    "# abs(x) will return the absolute value of a number x which we pass in argument. \n",
    "# number x can be integer, float, complex,..\n",
    "\n",
    "abs(20)"
   ]
  },
  {
   "cell_type": "code",
   "execution_count": 3,
   "id": "01288971",
   "metadata": {},
   "outputs": [
    {
     "data": {
      "text/plain": [
       "30"
      ]
     },
     "execution_count": 3,
     "metadata": {},
     "output_type": "execute_result"
    }
   ],
   "source": [
    "abs(-30)"
   ]
  },
  {
   "cell_type": "code",
   "execution_count": 4,
   "id": "e709877e",
   "metadata": {},
   "outputs": [
    {
     "data": {
      "text/plain": [
       "3.2"
      ]
     },
     "execution_count": 4,
     "metadata": {},
     "output_type": "execute_result"
    }
   ],
   "source": [
    "abs(-3.2)"
   ]
  },
  {
   "cell_type": "code",
   "execution_count": 5,
   "id": "1474ea06",
   "metadata": {},
   "outputs": [
    {
     "data": {
      "text/plain": [
       "99.3"
      ]
     },
     "execution_count": 5,
     "metadata": {},
     "output_type": "execute_result"
    }
   ],
   "source": [
    "abs(99.3)"
   ]
  },
  {
   "cell_type": "markdown",
   "id": "b479ce5b",
   "metadata": {},
   "source": [
    "## ceil()\n",
    "\n",
    "In Python, the ceil() function is an inbuilt method that is part of the math module. It is used to round up a given number to the nearest integer that is greater than or equal to the original value. This is particularly useful when working with decimal or floating-point numbers.\n",
    "\n",
    "The ceil() function takes a single argument, which can be an integer or a floating-point number, and returns the smallest integer greater than or equal to the input value.\n"
   ]
  },
  {
   "cell_type": "code",
   "execution_count": 9,
   "id": "c6f78df8",
   "metadata": {},
   "outputs": [
    {
     "name": "stdout",
     "output_type": "stream",
     "text": [
      "4\n",
      "10\n",
      "-2\n",
      "-93\n"
     ]
    }
   ],
   "source": [
    "import math\n",
    "\n",
    "result1 = math.ceil(3.5)   # Output: 4\n",
    "result2 = math.ceil(9.1)   # Output: 10\n",
    "result3 = math.ceil(-2.7)  # Output: -2 , is -2 greater or -3? obv -2 :)\n",
    "result4 = math.ceil(-93)\n",
    "\n",
    "print(result1)\n",
    "print(result2)\n",
    "print(result3)\n",
    "print(result4)"
   ]
  },
  {
   "cell_type": "markdown",
   "id": "76fedc52",
   "metadata": {},
   "source": [
    "## floor()\n",
    "\n",
    "In Python, the floor() function is an inbuilt method that is part of the math module. It is used to round down a given number to the nearest integer that is less than or equal to the original value. This is particularly useful when working with decimal or floating-point numbers.\n",
    "\n",
    "The floor() function takes a single argument, which can be an integer or a floating-point number, and returns the largest integer less than or equal to the input value."
   ]
  },
  {
   "cell_type": "code",
   "execution_count": 10,
   "id": "915d8191",
   "metadata": {},
   "outputs": [
    {
     "name": "stdout",
     "output_type": "stream",
     "text": [
      "3\n",
      "9\n",
      "-3\n"
     ]
    }
   ],
   "source": [
    "import math\n",
    "\n",
    "result1 = math.floor(3.5)   # Output: 3 , 3 is smaller 3.5\n",
    "result2 = math.floor(9.1)   # Output: 9 , 9 is smaller then 9.1\n",
    "result3 = math.floor(-2.7)  # Output: -3, -3 is smaller then -2.7\n",
    "\n",
    "print(result1)\n",
    "print(result2)\n",
    "print(result3)"
   ]
  },
  {
   "cell_type": "markdown",
   "id": "93481bba",
   "metadata": {},
   "source": [
    "## exp()  \n",
    "\n",
    "e to the power x  - e^x\n",
    "\n",
    "The exponential function is commonly used in mathematical calculations and represents the value of e raised to the power of the input number.\n",
    "\n",
    "The exp() function takes a single argument, which can be an integer, a floating-point number, or a complex number, and returns the result of e raised to the power of the input value."
   ]
  },
  {
   "cell_type": "code",
   "execution_count": 16,
   "id": "a1699bc3",
   "metadata": {},
   "outputs": [
    {
     "name": "stdout",
     "output_type": "stream",
     "text": [
      "7.38905609893065\n",
      "1.0\n",
      "0.36787944117144233\n",
      "23.140692632779267\n"
     ]
    }
   ],
   "source": [
    "import math\n",
    "\n",
    "result1 = math.exp(2)       # Output: 7.3890560989306495\n",
    "result2 = math.exp(0)       # Output: 1.0\n",
    "result3 = math.exp(-1)      # Output: 0.36787944117144233\n",
    "result4 = math.exp(1 * math.pi)  # Output: (-1+1.2246467991473532e-16j)\n",
    "\n",
    "print(result1)\n",
    "print(result2)\n",
    "print(result3)\n",
    "print(result4)"
   ]
  },
  {
   "cell_type": "code",
   "execution_count": 12,
   "id": "1e39be91",
   "metadata": {},
   "outputs": [
    {
     "data": {
      "text/plain": [
       "22026.465794806718"
      ]
     },
     "execution_count": 12,
     "metadata": {},
     "output_type": "execute_result"
    }
   ],
   "source": [
    "math.exp(10)"
   ]
  },
  {
   "cell_type": "code",
   "execution_count": 13,
   "id": "8138c979",
   "metadata": {},
   "outputs": [
    {
     "data": {
      "text/plain": [
       "0.0009118819655545162"
      ]
     },
     "execution_count": 13,
     "metadata": {},
     "output_type": "execute_result"
    }
   ],
   "source": [
    "math.exp(-7)"
   ]
  },
  {
   "cell_type": "markdown",
   "id": "73bca537",
   "metadata": {},
   "source": [
    "## fabs\n",
    "\n",
    "In Python, the fabs() function is an inbuilt method that is part of the math module. It is used to calculate the absolute value (magnitude) of a given number, regardless of its sign.\n",
    "\n",
    "The fabs() function takes a single argument, which can be an integer or a floating-point number, and returns the absolute value of the input number."
   ]
  },
  {
   "cell_type": "code",
   "execution_count": 24,
   "id": "0c929891",
   "metadata": {},
   "outputs": [
    {
     "name": "stdout",
     "output_type": "stream",
     "text": [
      "5.0\n",
      "10.5\n",
      "0.0\n",
      "15.707963267948966\n"
     ]
    }
   ],
   "source": [
    "import math\n",
    "\n",
    "result1 = math.fabs(5)       # Output: 5.0\n",
    "result2 = math.fabs(-10.5)   # Output: 10.5\n",
    "result3 = math.fabs(0)       # Output: 0.0\n",
    "result4 = math.fabs(5 * math.pi)       # Output: 0.0\n",
    "\n",
    "print(result1)\n",
    "print(result2)\n",
    "print(result3)\n",
    "print(result4)"
   ]
  },
  {
   "cell_type": "markdown",
   "id": "f70feee3",
   "metadata": {},
   "source": [
    "## log(x)\n",
    "\n",
    "In Python, the log() function is an inbuilt method that is part of the math module. It is used to calculate the natural logarithm (base e) of a given number.\n",
    "\n",
    "The log() function takes a single argument, which can be an integer or a floating-point number, and returns the natural logarithm of the input number."
   ]
  },
  {
   "cell_type": "code",
   "execution_count": 25,
   "id": "7f152288",
   "metadata": {},
   "outputs": [
    {
     "name": "stdout",
     "output_type": "stream",
     "text": [
      "2.302585092994046\n",
      "0.0\n",
      "0.999896315728952\n"
     ]
    }
   ],
   "source": [
    "import math\n",
    "\n",
    "result1 = math.log(10)     # Output: 2.302585092994046\n",
    "result2 = math.log(1)      # Output: 0.0\n",
    "result3 = math.log(2.718)  # Output: 1.0 (approximately)\n",
    "\n",
    "print(result1)\n",
    "print(result2)\n",
    "print(result3)"
   ]
  },
  {
   "cell_type": "markdown",
   "id": "5d53b172",
   "metadata": {},
   "source": [
    "In the above examples, the log() function calculates the natural logarithm of different numbers. The first example shows the logarithm of 10, the second example shows the logarithm of 1 (which is 0), and the third example shows the logarithm of the mathematical constant \"e\" (approximately equal to 2.718)."
   ]
  },
  {
   "cell_type": "code",
   "execution_count": 26,
   "id": "02b33403",
   "metadata": {},
   "outputs": [
    {
     "name": "stdout",
     "output_type": "stream",
     "text": [
      "2.302585092994046\n"
     ]
    }
   ],
   "source": [
    "import math\n",
    "\n",
    "x = 10\n",
    "result = math.log(x)\n",
    "print(result)  "
   ]
  },
  {
   "cell_type": "code",
   "execution_count": 28,
   "id": "16f4ece7",
   "metadata": {},
   "outputs": [
    {
     "data": {
      "text/plain": [
       "0.47712125471966244"
      ]
     },
     "execution_count": 28,
     "metadata": {},
     "output_type": "execute_result"
    }
   ],
   "source": [
    "math.log10(3)"
   ]
  },
  {
   "cell_type": "markdown",
   "id": "cb138f59",
   "metadata": {},
   "source": [
    "## max()\n",
    "\n",
    "In Python, the `max()` function is a built-in function that is used to find the maximum value among a sequence of values or elements. It can take multiple arguments (numeric or non-numeric) and returns the largest value.\n",
    "\n",
    "In the first example, the `max()` function finds the maximum value from the list of numbers and returns 30. In the second example, it finds the maximum word (based on lexicographic order) from the list of words and returns 'orange'."
   ]
  },
  {
   "cell_type": "code",
   "execution_count": 30,
   "id": "e965bf83",
   "metadata": {},
   "outputs": [
    {
     "name": "stdout",
     "output_type": "stream",
     "text": [
      "30\n"
     ]
    }
   ],
   "source": [
    "# find max value\n",
    "numbers = [10, 5, 20, 15, 30]\n",
    "max_value = max(numbers)\n",
    "print(max_value)  "
   ]
  },
  {
   "cell_type": "code",
   "execution_count": 31,
   "id": "1289ced3",
   "metadata": {},
   "outputs": [
    {
     "name": "stdout",
     "output_type": "stream",
     "text": [
      "orange\n"
     ]
    }
   ],
   "source": [
    "# it finds the maximum word (based on lexicographic order) from the list of words and returns 'orange'\n",
    "\n",
    "words = ['apple', 'banana', 'orange', 'grape']\n",
    "max_word = max(words)\n",
    "print(max_word)  "
   ]
  },
  {
   "cell_type": "code",
   "execution_count": 32,
   "id": "1eab16b2",
   "metadata": {},
   "outputs": [
    {
     "data": {
      "text/plain": [
       "-33"
      ]
     },
     "execution_count": 32,
     "metadata": {},
     "output_type": "execute_result"
    }
   ],
   "source": [
    "max(-55,-44,-33)"
   ]
  },
  {
   "cell_type": "markdown",
   "id": "8b423eb0",
   "metadata": {},
   "source": [
    "## min()\n",
    "\n",
    "\n",
    "In Python, the min() function is a built-in function that is used to find the minimum value among a sequence of values or elements. Similar to max(), it can take multiple arguments (numeric or non-numeric) and returns the smallest value."
   ]
  },
  {
   "cell_type": "code",
   "execution_count": 33,
   "id": "b94204b6",
   "metadata": {},
   "outputs": [
    {
     "name": "stdout",
     "output_type": "stream",
     "text": [
      "5\n"
     ]
    }
   ],
   "source": [
    "numbers = [10, 5, 20, 15, 30]\n",
    "min_value = min(numbers)\n",
    "print(min_value)  \n"
   ]
  },
  {
   "cell_type": "code",
   "execution_count": 34,
   "id": "9ab51270",
   "metadata": {},
   "outputs": [
    {
     "name": "stdout",
     "output_type": "stream",
     "text": [
      "apple\n"
     ]
    }
   ],
   "source": [
    "words = ['apple', 'banana', 'orange', 'grape']\n",
    "min_word = min(words)\n",
    "print(min_word) "
   ]
  },
  {
   "cell_type": "code",
   "execution_count": 35,
   "id": "f0ca8d7f",
   "metadata": {},
   "outputs": [
    {
     "data": {
      "text/plain": [
       "-1"
      ]
     },
     "execution_count": 35,
     "metadata": {},
     "output_type": "execute_result"
    }
   ],
   "source": [
    "min(-1,0)"
   ]
  },
  {
   "cell_type": "markdown",
   "id": "6e0a5252",
   "metadata": {},
   "source": [
    "## pow()\n",
    "\n",
    "In Python, the pow() function is a built-in function used to raise a number to a specified power. It takes two arguments: the base number and the exponent. The pow() function returns the result of raising the base to the power of the exponent."
   ]
  },
  {
   "cell_type": "code",
   "execution_count": 36,
   "id": "3584c7ac",
   "metadata": {},
   "outputs": [
    {
     "name": "stdout",
     "output_type": "stream",
     "text": [
      "8\n",
      "25\n"
     ]
    }
   ],
   "source": [
    "result = pow(2, 3)\n",
    "print(result)  \n",
    "\n",
    "result = pow(5, 2)\n",
    "print(result)  \n"
   ]
  },
  {
   "cell_type": "code",
   "execution_count": 37,
   "id": "407bdc46",
   "metadata": {},
   "outputs": [
    {
     "data": {
      "text/plain": [
       "-0.00032"
      ]
     },
     "execution_count": 37,
     "metadata": {},
     "output_type": "execute_result"
    }
   ],
   "source": [
    "import math\n",
    "math.pow(-5,-5)"
   ]
  },
  {
   "cell_type": "markdown",
   "id": "c54df455",
   "metadata": {},
   "source": [
    "## sqrt()\n",
    "\n",
    "In Python, the sqrt() function is a part of the math module and is used to calculate the square root of a number. It takes a single argument, which is the number whose square root is to be computed. The sqrt() function returns the square root as a floating-point number."
   ]
  },
  {
   "cell_type": "code",
   "execution_count": 42,
   "id": "28995965",
   "metadata": {},
   "outputs": [
    {
     "data": {
      "text/plain": [
       "5.0"
      ]
     },
     "execution_count": 42,
     "metadata": {},
     "output_type": "execute_result"
    }
   ],
   "source": [
    " math.sqrt(25)\n"
   ]
  },
  {
   "cell_type": "code",
   "execution_count": 41,
   "id": "6117443f",
   "metadata": {},
   "outputs": [
    {
     "data": {
      "text/plain": [
       "1.4142135623730951"
      ]
     },
     "execution_count": 41,
     "metadata": {},
     "output_type": "execute_result"
    }
   ],
   "source": [
    "math.sqrt(2)"
   ]
  },
  {
   "cell_type": "code",
   "execution_count": 40,
   "id": "dab77d0f",
   "metadata": {},
   "outputs": [
    {
     "data": {
      "text/plain": [
       "10.04987562112089"
      ]
     },
     "execution_count": 40,
     "metadata": {},
     "output_type": "execute_result"
    }
   ],
   "source": [
    "math.sqrt(101)"
   ]
  },
  {
   "cell_type": "markdown",
   "id": "fe03b6e7",
   "metadata": {},
   "source": [
    "## trigonometric functions\n",
    "\n",
    "In Python, the math module provides several trigonometric functions that allow you to perform trigonometric calculations. Some of the commonly used trigonometric functions are:\n",
    "\n",
    "- math.sin(x): Calculates the sine of the angle x in radians.\n",
    "- math.cos(x): Calculates the cosine of the angle x in radians.\n",
    "- math.tan(x): Calculates the tangent of the angle x in radians.\n",
    "- math.asin(x): Calculates the arcsine (inverse sine) of x in radians.\n",
    "- math.acos(x): Calculates the arccosine (inverse cosine) of x in radians.\n",
    "- math.atan(x): Calculates the arctangent (inverse tangent) of x in radians.\n",
    "\n",
    "Keep in mind that these functions expect the angle to be in radians. If you have an angle in degrees, you can use the math.radians() function to convert it to radians before performing trigonometric calculations.\n",
    "\n",
    "Example:"
   ]
  },
  {
   "cell_type": "code",
   "execution_count": 43,
   "id": "a4942231",
   "metadata": {},
   "outputs": [
    {
     "name": "stdout",
     "output_type": "stream",
     "text": [
      "0.49999999999999994\n",
      "0.8660254037844387\n",
      "0.5773502691896257\n",
      "0.5235987755982989\n",
      "1.0471975511965979\n",
      "0.7853981633974483\n"
     ]
    }
   ],
   "source": [
    "import math\n",
    "\n",
    "angle_in_degrees = 30\n",
    "angle_in_radians = math.radians(angle_in_degrees)\n",
    "\n",
    "print(math.sin(angle_in_radians))  # Output: 0.49999999999999994\n",
    "print(math.cos(angle_in_radians))  # Output: 0.8660254037844387\n",
    "print(math.tan(angle_in_radians))  # Output: 0.5773502691896257\n",
    "\n",
    "print(math.asin(0.5))  # Output: 0.5235987755982989\n",
    "print(math.acos(0.5))  # Output: 1.0471975511965979\n",
    "print(math.atan(1.0))  # Output: 0.7853981633974483\n"
   ]
  },
  {
   "cell_type": "code",
   "execution_count": 44,
   "id": "75972a6c",
   "metadata": {},
   "outputs": [
    {
     "data": {
      "text/plain": [
       "0.0"
      ]
     },
     "execution_count": 44,
     "metadata": {},
     "output_type": "execute_result"
    }
   ],
   "source": [
    "math.sin(0)"
   ]
  },
  {
   "cell_type": "code",
   "execution_count": 45,
   "id": "a38dc2a5",
   "metadata": {},
   "outputs": [
    {
     "data": {
      "text/plain": [
       "-0.4480736161291701"
      ]
     },
     "execution_count": 45,
     "metadata": {},
     "output_type": "execute_result"
    }
   ],
   "source": [
    "math.cos(90)"
   ]
  },
  {
   "cell_type": "code",
   "execution_count": 46,
   "id": "f246ca15",
   "metadata": {},
   "outputs": [
    {
     "data": {
      "text/plain": [
       "1.6197751905438615"
      ]
     },
     "execution_count": 46,
     "metadata": {},
     "output_type": "execute_result"
    }
   ],
   "source": [
    "math.tan(45)"
   ]
  },
  {
   "cell_type": "code",
   "execution_count": 47,
   "id": "4900c3df",
   "metadata": {},
   "outputs": [
    {
     "data": {
      "text/plain": [
       "3.605551275463989"
      ]
     },
     "execution_count": 47,
     "metadata": {},
     "output_type": "execute_result"
    }
   ],
   "source": [
    "## hypot()\n",
    "\n",
    "math.hypot(2,3)"
   ]
  },
  {
   "cell_type": "markdown",
   "id": "5f958879",
   "metadata": {},
   "source": [
    "In this program, the is_prime() function takes an integer number as input and returns True if it is a prime number, and False otherwise. We check for divisors up to the square root of the number to optimize the process."
   ]
  },
  {
   "cell_type": "code",
   "execution_count": 48,
   "id": "41367d4c",
   "metadata": {},
   "outputs": [
    {
     "name": "stdout",
     "output_type": "stream",
     "text": [
      "True\n",
      "False\n"
     ]
    }
   ],
   "source": [
    "\n",
    "def is_prime(number):\n",
    "    if number <= 1:\n",
    "        return False\n",
    "    for i in range(2, int(number**0.5) + 1):\n",
    "        if number % i == 0:\n",
    "            return False\n",
    "    return True\n",
    "\n",
    "# Test cases\n",
    "print(is_prime(7))   # Output: True\n",
    "print(is_prime(10))  # Output: False\n"
   ]
  },
  {
   "cell_type": "code",
   "execution_count": 49,
   "id": "c15830f6",
   "metadata": {},
   "outputs": [
    {
     "name": "stdout",
     "output_type": "stream",
     "text": [
      "25\n"
     ]
    }
   ],
   "source": [
    "def find_max(a, b, c):\n",
    "    return max(a, b, c)\n",
    "\n",
    "# Test case\n",
    "print(find_max(10, 25, 7))  # Output: 25\n"
   ]
  },
  {
   "cell_type": "code",
   "execution_count": null,
   "id": "908da07b",
   "metadata": {},
   "outputs": [],
   "source": []
  }
 ],
 "metadata": {
  "kernelspec": {
   "display_name": "Python 3 (ipykernel)",
   "language": "python",
   "name": "python3"
  },
  "language_info": {
   "codemirror_mode": {
    "name": "ipython",
    "version": 3
   },
   "file_extension": ".py",
   "mimetype": "text/x-python",
   "name": "python",
   "nbconvert_exporter": "python",
   "pygments_lexer": "ipython3",
   "version": "3.11.3"
  }
 },
 "nbformat": 4,
 "nbformat_minor": 5
}
