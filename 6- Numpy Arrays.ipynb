{
 "cells": [
  {
   "attachments": {},
   "cell_type": "markdown",
   "id": "e1672c89",
   "metadata": {},
   "source": [
    "\n",
    "## Introduction to NumPy:\n",
    "\n",
    "NumPy is a fundamental library for numerical computing in Python. It stands for \"Numerical Python\" and provides support for large, multi-dimensional arrays and matrices, along with an extensive collection of high-level mathematical functions to operate on these arrays efficiently. NumPy is the foundation for many scientific and data science libraries in Python and is widely used in various fields, such as data analysis, machine learning, and scientific research.\n",
    "\n",
    "Installing NumPy:\n",
    "\n",
    "If you don't have NumPy installed, you can install it using pip:"
   ]
  },
  {
   "cell_type": "code",
   "execution_count": 1,
   "id": "572738bf",
   "metadata": {},
   "outputs": [
    {
     "name": "stdout",
     "output_type": "stream",
     "text": [
      "Requirement already satisfied: numpy in c:\\users\\ayman\\appdata\\local\\programs\\python\\python311\\lib\\site-packages (1.24.3)\n",
      "Note: you may need to restart the kernel to use updated packages. \n"
     ]
    },
    {
     "name": "stderr",
     "output_type": "stream",
     "text": [
      "\n",
      "[notice] A new release of pip is available: 23.1.2 -> 23.2\n",
      "[notice] To update, run: python.exe -m pip install --upgrade pip\n"
     ]
    }
   ],
   "source": [
    "pip install numpy"
   ]
  },
  {
   "attachments": {},
   "cell_type": "markdown",
   "id": "02e5a68f",
   "metadata": {},
   "source": [
    "Importing NumPy:\n",
    "\n",
    "To use NumPy in your Python code, you need to import it:"
   ]
  },
  {
   "cell_type": "code",
   "execution_count": 2,
   "id": "52ad72c5",
   "metadata": {},
   "outputs": [],
   "source": [
    "import numpy as np"
   ]
  },
  {
   "attachments": {},
   "cell_type": "markdown",
   "id": "043769d5",
   "metadata": {},
   "source": [
    "## Creating NumPy Arrays:\n",
    "\n",
    "NumPy arrays are similar to lists, but they can hold multi-dimensional data. Let's create some arrays to demonstrate its capabilities:"
   ]
  },
  {
   "cell_type": "code",
   "execution_count": 4,
   "id": "c162f3ea",
   "metadata": {},
   "outputs": [],
   "source": [
    "# 1D array\n",
    "arr1d = np.array([1, 2, 3, 4, 5])\n",
    "\n",
    "# 2D array\n",
    "arr2d = np.array([[1, 2, 3], [4, 5, 6], [7, 8, 9]])\n",
    "\n",
    "# 3D array\n",
    "arr3d = np.array([[[1, 2], [3, 4]], [[5, 6], [7, 8]]])\n"
   ]
  },
  {
   "cell_type": "code",
   "execution_count": 5,
   "id": "ebbb2e1b",
   "metadata": {},
   "outputs": [
    {
     "data": {
      "text/plain": [
       "array([1, 2, 3, 4, 5])"
      ]
     },
     "execution_count": 5,
     "metadata": {},
     "output_type": "execute_result"
    }
   ],
   "source": [
    "arr1d"
   ]
  },
  {
   "cell_type": "code",
   "execution_count": 6,
   "id": "644184a0",
   "metadata": {},
   "outputs": [
    {
     "data": {
      "text/plain": [
       "array([[1, 2, 3],\n",
       "       [4, 5, 6],\n",
       "       [7, 8, 9]])"
      ]
     },
     "execution_count": 6,
     "metadata": {},
     "output_type": "execute_result"
    }
   ],
   "source": [
    "arr2d"
   ]
  },
  {
   "cell_type": "code",
   "execution_count": 7,
   "id": "5c5e9146",
   "metadata": {},
   "outputs": [
    {
     "data": {
      "text/plain": [
       "array([[[1, 2],\n",
       "        [3, 4]],\n",
       "\n",
       "       [[5, 6],\n",
       "        [7, 8]]])"
      ]
     },
     "execution_count": 7,
     "metadata": {},
     "output_type": "execute_result"
    }
   ],
   "source": [
    "arr3d"
   ]
  },
  {
   "attachments": {},
   "cell_type": "markdown",
   "id": "eb655628",
   "metadata": {},
   "source": [
    "## Array Attributes:\n",
    "\n",
    "NumPy arrays have useful attributes that provide information about their shape and data type:"
   ]
  },
  {
   "cell_type": "code",
   "execution_count": 31,
   "id": "85d04dbd",
   "metadata": {},
   "outputs": [
    {
     "name": "stdout",
     "output_type": "stream",
     "text": [
      "Shape: (5,)\n",
      "Data Type: int32\n",
      "Number of Dimensions: 1\n"
     ]
    }
   ],
   "source": [
    "arr = np.array([1, 2, 3, 4, 5])\n",
    "print(\"Shape:\", arr.shape)      \n",
    "print(\"Data Type:\", arr.dtype)  \n",
    "print(\"Number of Dimensions:\", arr.ndim)  \n"
   ]
  },
  {
   "cell_type": "code",
   "execution_count": 41,
   "id": "457eab53",
   "metadata": {},
   "outputs": [
    {
     "data": {
      "text/plain": [
       "array([1, 2, 3])"
      ]
     },
     "execution_count": 41,
     "metadata": {},
     "output_type": "execute_result"
    }
   ],
   "source": [
    "lst = [1,2,3]\n",
    "arr2 = np.array(lst)\n",
    "arr2"
   ]
  },
  {
   "cell_type": "code",
   "execution_count": 52,
   "id": "59bf5a14",
   "metadata": {},
   "outputs": [
    {
     "data": {
      "text/plain": [
       "array([[1, 2, 3],\n",
       "       [2, 3, 4],\n",
       "       [5, 6, 7]])"
      ]
     },
     "execution_count": 52,
     "metadata": {},
     "output_type": "execute_result"
    }
   ],
   "source": [
    "list1 = [1,2,3]\n",
    "list2 = [2,3,4]\n",
    "list3 = [5,6,7]\n",
    "\n",
    "list_arr = np.array([list1,list2,list3])\n",
    "list_arr"
   ]
  },
  {
   "cell_type": "code",
   "execution_count": 51,
   "id": "de11376c",
   "metadata": {},
   "outputs": [
    {
     "data": {
      "text/plain": [
       "(3, 3)"
      ]
     },
     "execution_count": 51,
     "metadata": {},
     "output_type": "execute_result"
    }
   ],
   "source": [
    "list_arr.shape"
   ]
  },
  {
   "cell_type": "code",
   "execution_count": null,
   "id": "cc39e4b6",
   "metadata": {},
   "outputs": [],
   "source": []
  },
  {
   "attachments": {},
   "cell_type": "markdown",
   "id": "1af1ac1d",
   "metadata": {},
   "source": [
    "## Array Operations:\n",
    "\n",
    "NumPy allows performing element-wise operations on arrays, making computations faster and more efficient:"
   ]
  },
  {
   "cell_type": "code",
   "execution_count": 12,
   "id": "e5d04162",
   "metadata": {},
   "outputs": [],
   "source": [
    "a = np.array([1, 2, 3])\n",
    "b = np.array([4, 5, 6])\n",
    "\n",
    "# Element-wise addition\n",
    "result_add = a + b\n",
    "\n",
    "# Element-wise multiplication\n",
    "result_mul = a * b\n",
    "\n",
    "# Element-wise division\n",
    "result_div = a / b\n",
    "\n",
    "# Dot product (matrix multiplication)\n",
    "dot_product = np.dot(a, b)\n",
    "\n",
    "# Broadcasting: Applying operations on arrays with different shapes\n",
    "broadcasting_example = a + 10\n"
   ]
  },
  {
   "cell_type": "code",
   "execution_count": 16,
   "id": "4164472c",
   "metadata": {},
   "outputs": [
    {
     "name": "stdout",
     "output_type": "stream",
     "text": [
      "addition:  [5 7 9]\n",
      "multiplication:  [ 4 10 18]\n",
      "division:  [0.25 0.4  0.5 ]\n",
      "matrix multiplication:  32\n",
      "broadcasting_example:  [11 12 13]\n"
     ]
    }
   ],
   "source": [
    "print('addition: ' , result_add)\n",
    "print('multiplication: ' , result_mul)\n",
    "print('division: ' , result_div)\n",
    "print('matrix multiplication: ' , dot_product)\n",
    "print('broadcasting_example: ' , broadcasting_example)\n"
   ]
  },
  {
   "attachments": {},
   "cell_type": "markdown",
   "id": "15fbe5fb",
   "metadata": {},
   "source": [
    "## Array Indexing and Slicing:\n",
    "\n",
    "You can access elements, rows, and columns in NumPy arrays using indexing and slicing:"
   ]
  },
  {
   "cell_type": "code",
   "execution_count": 18,
   "id": "f8aac5de",
   "metadata": {},
   "outputs": [
    {
     "name": "stdout",
     "output_type": "stream",
     "text": [
      "1\n",
      "[2 3 4]\n",
      "6\n",
      "[2 5 8]\n",
      "[3 4 5]\n"
     ]
    }
   ],
   "source": [
    "arr = np.array([1, 2, 3, 4, 5])\n",
    "\n",
    "# Accessing an element\n",
    "print(arr[0])     # Output: 1\n",
    "\n",
    "# Slicing\n",
    "print(arr[1:4])   # Output: [2 3 4]\n",
    "\n",
    "# 2D Array indexing\n",
    "arr2d = np.array([[1, 2, 3], [4, 5, 6], [7, 8, 9]])\n",
    "print(arr2d[1, 2])  # Output: 6 (element in the second row, third column)\n",
    "print(arr2d[:, 1])  # Output: [2 5 8] (second column)\n",
    "\n",
    "# Boolean indexing (filtering)\n",
    "print(arr[arr > 2])  # Output: [3 4 5]\n"
   ]
  },
  {
   "attachments": {},
   "cell_type": "markdown",
   "id": "340739f1",
   "metadata": {},
   "source": [
    "## differance b/w  Indexing and Slicing\n",
    "\n",
    "\n",
    "**Indexing:**\n",
    "\n",
    "Indexing refers to the process of accessing individual elements of an array using their position or index. In Python, indexing starts from 0, which means the first element of an array is accessed using index 0, the second element using index 1, and so on.\n",
    "\n",
    "For example, let's consider the array `arr = [10, 20, 30, 40, 50]`. To access individual elements through indexing:\n",
    "\n",
    "```python\n",
    "arr[0]  # Output: 10 (First element)\n",
    "arr[2]  # Output: 30 (Third element)\n",
    "arr[-1] # Output: 50 (Last element)\n",
    "```\n",
    "\n",
    "**Slicing:**\n",
    "\n",
    "Slicing is the process of extracting a portion (or subsequence) of an array. It allows you to create a new array containing a subset of the elements from the original array. Slicing is done by specifying a range of indices using the colon (:) operator.\n",
    "\n",
    "The syntax for slicing is `array[start:stop:step]`, where:\n",
    "- `start`: The index to start slicing (included in the slice).\n",
    "- `stop`: The index to stop slicing (not included in the slice).\n",
    "- `step`: The step size, i.e., the number of elements between each index in the slice (optional, default is 1).\n",
    "\n",
    "For example, using the same array `arr = [10, 20, 30, 40, 50]`, let's see some slicing examples:\n",
    "\n",
    "```python\n",
    "arr[1:4]    # Output: [20, 30, 40] (Slice from index 1 to 3, not including 4)\n",
    "arr[:3]     # Output: [10, 20, 30] (Slice from the beginning to index 2, not including 3)\n",
    "arr[2:]     # Output: [30, 40, 50] (Slice from index 2 to the end)\n",
    "arr[::2]    # Output: [10, 30, 50] (Slice with a step of 2, includes every second element)\n",
    "arr[::-1]   # Output: [50, 40, 30, 20, 10] (Slice with a step of -1, reverses the array)\n",
    "```\n",
    "\n",
    "**Summary:**\n",
    "\n",
    "In summary, indexing is used to access individual elements of an array by their specific position (index), while slicing is used to extract a portion of an array by specifying a range of indices. Indexing retrieves a single element, whereas slicing creates a new array containing a subset of elements from the original array based on the specified range. Both indexing and slicing are powerful tools for working with arrays and are commonly used in Python for data manipulation and analysis."
   ]
  },
  {
   "cell_type": "code",
   "execution_count": 54,
   "id": "da11c8f8",
   "metadata": {},
   "outputs": [
    {
     "data": {
      "text/plain": [
       "4"
      ]
     },
     "execution_count": 54,
     "metadata": {},
     "output_type": "execute_result"
    }
   ],
   "source": [
    "#indexing\n",
    "arr = np.array([1,2,3,4])\n",
    "arr[3]"
   ]
  },
  {
   "cell_type": "code",
   "execution_count": 56,
   "id": "d84886d4",
   "metadata": {},
   "outputs": [
    {
     "data": {
      "text/plain": [
       "array([1, 2, 3, 5])"
      ]
     },
     "execution_count": 56,
     "metadata": {},
     "output_type": "execute_result"
    }
   ],
   "source": [
    "# assgin index[3] to 5 number \n",
    "arr[3]=5\n",
    "arr"
   ]
  },
  {
   "cell_type": "code",
   "execution_count": 57,
   "id": "a3d99461",
   "metadata": {},
   "outputs": [
    {
     "data": {
      "text/plain": [
       "5"
      ]
     },
     "execution_count": 57,
     "metadata": {},
     "output_type": "execute_result"
    }
   ],
   "source": [
    "# -1 means last item \n",
    "\n",
    "arr[-1]"
   ]
  },
  {
   "cell_type": "code",
   "execution_count": 67,
   "id": "d7459dd4",
   "metadata": {},
   "outputs": [
    {
     "data": {
      "text/plain": [
       "array([1, 2, 3])"
      ]
     },
     "execution_count": 67,
     "metadata": {},
     "output_type": "execute_result"
    }
   ],
   "source": [
    "#  all to last, last will not shown \n",
    "arr[:-1]"
   ]
  },
  {
   "cell_type": "code",
   "execution_count": 71,
   "id": "5384f4c7",
   "metadata": {},
   "outputs": [
    {
     "data": {
      "text/plain": [
       "[1, 4, 7, 10]"
      ]
     },
     "execution_count": 71,
     "metadata": {},
     "output_type": "execute_result"
    }
   ],
   "source": [
    "# :: all, with gape of 3 numbers\n",
    "\n",
    "arr2 = [1,2,3,4,5,6,7,8,9,10,11]\n",
    "arr2[::3]"
   ]
  },
  {
   "cell_type": "code",
   "execution_count": 73,
   "id": "7c95c719",
   "metadata": {},
   "outputs": [
    {
     "data": {
      "text/plain": [
       "[11, 8, 5, 2]"
      ]
     },
     "execution_count": 73,
     "metadata": {},
     "output_type": "execute_result"
    }
   ],
   "source": [
    "#  reverse and 3 num gap\n",
    "arr2[::-3]   "
   ]
  },
  {
   "attachments": {},
   "cell_type": "markdown",
   "id": "3e50c790",
   "metadata": {},
   "source": [
    "## Indexing in 2D\n",
    "\n",
    "Indexing in 2D refers to the process of accessing elements in a two-dimensional array using row and column indices. In a 2D array, elements are organized in rows and columns, forming a grid-like structure. The indexing notation for a 2D array is `array[row_index, column_index]`, where `row_index` is the index of the row, and `column_index` is the index of the column.\n",
    "\n",
    "Let's consider a simple 2D array as an example:\n",
    "\n",
    "```python\n",
    "\n",
    "# Create a 2D array\n",
    "arr_2d = np.array([[1, 2, 3], [4, 5, 6], [7, 8, 9]])\n",
    "```\n",
    "\n",
    "To access individual elements in the 2D array:\n",
    "\n",
    "```python\n",
    "# Accessing a single element\n",
    "element_1 = arr_2d[0, 0]  # First row, first column (Output: 1)\n",
    "element_2 = arr_2d[1, 2]  # Second row, third column (Output: 6)\n",
    "element_3 = arr_2d[2, 1]  # Third row, second column (Output: 8)\n",
    "```\n",
    "\n",
    "To access entire rows or columns:\n",
    "\n",
    "```python\n",
    "# Accessing an entire row\n",
    "row_1 = arr_2d[0, :]  # First row (Output: [1 2 3])\n",
    "row_2 = arr_2d[1, :]  # Second row (Output: [4 5 6])\n",
    "row_3 = arr_2d[2, :]  # Third row (Output: [7 8 9])\n",
    "\n",
    "# Accessing an entire column\n",
    "col_1 = arr_2d[:, 0]  # First column (Output: [1 4 7])\n",
    "col_2 = arr_2d[:, 1]  # Second column (Output: [2 5 8])\n",
    "col_3 = arr_2d[:, 2]  # Third column (Output: [3 6 9])\n",
    "```\n",
    "\n",
    "You can also perform slicing in 2D arrays to extract a sub-matrix:\n",
    "\n",
    "```python\n",
    "# Slicing a sub-matrix\n",
    "sub_matrix = arr_2d[1:3, 1:3]\n",
    "# Output:\n",
    "# [[5 6]\n",
    "#  [8 9]]\n",
    "```\n",
    "\n",
    "In this example, we sliced the 2D array `arr_2d` to create a sub-matrix containing the elements from rows 1 to 2 and columns 1 to 2.\n",
    "\n",
    "By using appropriate row and column indices, you can efficiently access specific elements or sub-matrices within a 2D array for various data analysis and manipulation tasks."
   ]
  },
  {
   "cell_type": "code",
   "execution_count": 164,
   "id": "02edf425",
   "metadata": {},
   "outputs": [
    {
     "data": {
      "text/plain": [
       "array([[1, 2, 3],\n",
       "       [4, 5, 6],\n",
       "       [7, 8, 9]])"
      ]
     },
     "execution_count": 164,
     "metadata": {},
     "output_type": "execute_result"
    }
   ],
   "source": [
    "# Create a 2D array\n",
    "arr_2d = np.array([[1, 2, 3], [4, 5, 6], [7, 8, 9]])\n",
    "arr_2d"
   ]
  },
  {
   "cell_type": "code",
   "execution_count": 192,
   "id": "aa6531ad",
   "metadata": {},
   "outputs": [
    {
     "data": {
      "text/plain": [
       "6"
      ]
     },
     "execution_count": 192,
     "metadata": {},
     "output_type": "execute_result"
    }
   ],
   "source": [
    "arr_2d[1,2]"
   ]
  },
  {
   "cell_type": "code",
   "execution_count": 189,
   "id": "18d286e9",
   "metadata": {},
   "outputs": [
    {
     "data": {
      "text/plain": [
       "array([4, 5])"
      ]
     },
     "execution_count": 189,
     "metadata": {},
     "output_type": "execute_result"
    }
   ],
   "source": [
    "arr_2d[1,:2]"
   ]
  },
  {
   "cell_type": "code",
   "execution_count": 188,
   "id": "c31173fb",
   "metadata": {},
   "outputs": [
    {
     "data": {
      "text/plain": [
       "array([6, 9])"
      ]
     },
     "execution_count": 188,
     "metadata": {},
     "output_type": "execute_result"
    }
   ],
   "source": [
    "arr_2d[1:,2]"
   ]
  },
  {
   "cell_type": "code",
   "execution_count": 193,
   "id": "b4158a9b",
   "metadata": {},
   "outputs": [
    {
     "data": {
      "text/plain": [
       "array([[1, 2, 3],\n",
       "       [4, 5, 6],\n",
       "       [7, 8, 9]])"
      ]
     },
     "execution_count": 193,
     "metadata": {},
     "output_type": "execute_result"
    }
   ],
   "source": [
    "arr_2d[:,:]"
   ]
  },
  {
   "cell_type": "code",
   "execution_count": 194,
   "id": "7334b665",
   "metadata": {},
   "outputs": [
    {
     "data": {
      "text/plain": [
       "array([[1, 2, 3],\n",
       "       [4, 5, 6],\n",
       "       [7, 8, 9]])"
      ]
     },
     "execution_count": 194,
     "metadata": {},
     "output_type": "execute_result"
    }
   ],
   "source": [
    "arr_2d[::]"
   ]
  },
  {
   "cell_type": "code",
   "execution_count": 200,
   "id": "cf99c400",
   "metadata": {},
   "outputs": [
    {
     "data": {
      "text/plain": [
       "array([7])"
      ]
     },
     "execution_count": 200,
     "metadata": {},
     "output_type": "execute_result"
    }
   ],
   "source": [
    "arr_2d[2,:1]"
   ]
  },
  {
   "cell_type": "code",
   "execution_count": 209,
   "id": "9504b969",
   "metadata": {},
   "outputs": [
    {
     "data": {
      "text/plain": [
       "array([[1, 2],\n",
       "       [4, 5],\n",
       "       [7, 8]])"
      ]
     },
     "execution_count": 209,
     "metadata": {},
     "output_type": "execute_result"
    }
   ],
   "source": [
    "arr_2d[:,:2]"
   ]
  },
  {
   "cell_type": "code",
   "execution_count": 210,
   "id": "50f6b879",
   "metadata": {},
   "outputs": [
    {
     "data": {
      "text/plain": [
       "array([2, 5])"
      ]
     },
     "execution_count": 210,
     "metadata": {},
     "output_type": "execute_result"
    }
   ],
   "source": [
    "arr_2d[:2,1]"
   ]
  },
  {
   "attachments": {},
   "cell_type": "markdown",
   "id": "7e9819f9",
   "metadata": {},
   "source": [
    "## Let's break down the slicing expression `arr[:2, 1]`:\n",
    "\n",
    "Assuming `arr` is a 2D array:\n",
    "\n",
    "```python\n",
    "import numpy as np\n",
    "\n",
    "# Example 2D array\n",
    "arr = np.array([[1, 2, 3], [4, 5, 6], [7, 8, 9]])\n",
    "```\n",
    "\n",
    "**Slicing Explanation:**\n",
    "\n",
    "1. `arr[:2, 1]`:\n",
    "\n",
    "- `:2` represents the row slicing, and it means that we want to select rows from the beginning (index 0) up to, but not including, the row with index 2. In other words, it selects the first two rows (rows 0 and 1) of the 2D array.\n",
    "- `,` separates the row and column slicing.\n",
    "- `1` represents the column slicing, and it means that we want to select elements from the second column (index 1) of the specified rows.\n",
    "\n",
    "**Output:**\n",
    "\n",
    "The slicing expression `arr[:2, 1]` will return a 1D array containing the elements from the second column of the first two rows (rows 0 and 1) of the original 2D array:\n",
    "\n",
    "```python\n",
    "output = arr[:2, 1]\n",
    "\n",
    "# Output: [2 5]\n",
    "```\n",
    "\n",
    "In this example, the output is `[2 5]`, which represents the values `2` and `5`. These values are taken from the second column (index 1) of the first two rows (rows 0 and 1) of the `arr` array.\n",
    "\n",
    "In summary, `arr[:2, 1]` slices the 2D array to select specific elements from the first two rows and the second column, resulting in a 1D array containing the selected elements."
   ]
  },
  {
   "cell_type": "code",
   "execution_count": 211,
   "id": "6f36360a",
   "metadata": {},
   "outputs": [
    {
     "data": {
      "text/plain": [
       "array([2, 5])"
      ]
     },
     "execution_count": 211,
     "metadata": {},
     "output_type": "execute_result"
    }
   ],
   "source": [
    "arr_2d[:2,1]"
   ]
  },
  {
   "attachments": {},
   "cell_type": "markdown",
   "id": "c96540d0",
   "metadata": {},
   "source": [
    "## Let's break down the slicing expression `arr[2:, 1]`:\n",
    "\n",
    "Assuming `arr` is a 2D array:\n",
    "\n",
    "```python\n",
    "\n",
    "# Example 2D array\n",
    "arr = np.array([[1, 2, 3], [4, 5, 6], [7, 8, 9]])\n",
    "```\n",
    "\n",
    "**Slicing Explanation:**\n",
    "\n",
    "1. `arr[2:, 1]`:\n",
    "\n",
    "- `2:` represents the row slicing, and it means that we want to select rows starting from index 2 and all the way to the end. In other words, it selects the last row (row with index 2) and all rows after it.\n",
    "- `,` separates the row and column slicing.\n",
    "- `1` represents the column slicing, and it means that we want to select elements from the second column (index 1) of the specified rows.\n",
    "\n",
    "**Output:**\n",
    "\n",
    "The slicing expression `arr[2:, 1]` will return a 1D array containing the elements from the second column (index 1) of all rows starting from the third row (row with index 2) to the end of the original 2D array:\n",
    "\n",
    "```python\n",
    "output = arr[2:, 1]\n",
    "\n",
    "# Output: [8]\n",
    "```\n",
    "\n",
    "In this example, the output is `[8]`, which represents the value `8`. This value is taken from the second column (index 1) of the last row (row with index 2) of the `arr` array.\n",
    "\n",
    "In summary, `arr[2:, 1]` slices the 2D array to select specific elements from all rows starting from the third row (row with index 2) and the second column, resulting in a 1D array containing the selected elements."
   ]
  },
  {
   "cell_type": "code",
   "execution_count": 201,
   "id": "773eaa4b",
   "metadata": {},
   "outputs": [
    {
     "data": {
      "text/plain": [
       "array([7, 8, 9])"
      ]
     },
     "execution_count": 201,
     "metadata": {},
     "output_type": "execute_result"
    }
   ],
   "source": [
    "arr_2d[2,:]"
   ]
  },
  {
   "attachments": {},
   "cell_type": "markdown",
   "id": "67dae4bc",
   "metadata": {},
   "source": [
    "Sure! Let's break down the indexing expression `arr_2d[2, :]`:\n",
    "\n",
    "Assuming `arr_2d` is a 2D array:\n",
    "\n",
    "```python\n",
    "import numpy as np\n",
    "\n",
    "# Example 2D array\n",
    "arr_2d = np.array([[1, 2, 3], [4, 5, 6], [7, 8, 9]])\n",
    "```\n",
    "\n",
    "**Indexing Explanation:**\n",
    "\n",
    "1. `arr_2d[2, :]`:\n",
    "\n",
    "- `2` represents the row index, and it means that we want to access the third row of the 2D array. In Python, indexing starts from 0, so `2` corresponds to the third row.\n",
    "- `,` separates the row and column indices.\n",
    "- `:` after the comma represents the column slicing. It means we want to select all elements from the specified row.\n",
    "\n",
    "**Output:**\n",
    "\n",
    "The indexing expression `arr_2d[2, :]` will return a 1D array containing all elements from the third row (row with index 2) of the original 2D array:\n",
    "\n",
    "```python\n",
    "output = arr_2d[2, :]\n",
    "\n",
    "# Output: [7 8 9]\n",
    "```\n",
    "\n",
    "In this example, the output is `[7 8 9]`, which represents the entire third row of the `arr_2d` array.\n",
    "\n",
    "In summary, `arr_2d[2, :]` indexes the 2D array to access the third row (row with index 2) and returns a 1D array containing all the elements from that row."
   ]
  },
  {
   "cell_type": "code",
   "execution_count": 202,
   "id": "ba7410ec",
   "metadata": {},
   "outputs": [
    {
     "data": {
      "text/plain": [
       "array([7, 8])"
      ]
     },
     "execution_count": 202,
     "metadata": {},
     "output_type": "execute_result"
    }
   ],
   "source": [
    "arr_2d[2,:2]"
   ]
  },
  {
   "attachments": {},
   "cell_type": "markdown",
   "id": "a78b17de",
   "metadata": {},
   "source": [
    "## Let's break down the slicing expression `arr_2d[2, :2]`:\n",
    "\n",
    "Assuming `arr_2d` is a 2D array:\n",
    "\n",
    "```python\n",
    "import numpy as np\n",
    "\n",
    "# Example 2D array\n",
    "arr_2d = np.array([[1, 2, 3], [4, 5, 6], [7, 8, 9]])\n",
    "```\n",
    "\n",
    "**Slicing Explanation:**\n",
    "\n",
    "1. `arr_2d[2, :2]`:\n",
    "\n",
    "- `2` represents the row index, and it means that we want to access the third row of the 2D array. In Python, indexing starts from 0, so `2` corresponds to the third row.\n",
    "- `,` separates the row and column indices.\n",
    "- `:2` after the comma represents the column slicing. It means we want to select elements from the specified row up to, but not including, the column with index 2.\n",
    "\n",
    "**Output:**\n",
    "\n",
    "The slicing expression `arr_2d[2, :2]` will return a 1D array containing the first two elements from the third row (row with index 2) of the original 2D array:\n",
    "\n",
    "```python\n",
    "output = arr_2d[2, :2]\n",
    "\n",
    "# Output: [7 8]\n",
    "```\n",
    "\n",
    "In this example, the output is `[7 8]`, which represents the first two elements from the third row of the `arr_2d` array.\n",
    "\n",
    "In summary, `arr_2d[2, :2]` slices the 2D array to select specific elements from the third row (row with index 2) up to, but not including, the column with index 2, resulting in a 1D array containing the selected elements."
   ]
  },
  {
   "cell_type": "code",
   "execution_count": 203,
   "id": "4e701248",
   "metadata": {},
   "outputs": [
    {
     "data": {
      "text/plain": [
       "array([7, 8, 9])"
      ]
     },
     "execution_count": 203,
     "metadata": {},
     "output_type": "execute_result"
    }
   ],
   "source": [
    "arr_2d[2,:3]"
   ]
  },
  {
   "cell_type": "code",
   "execution_count": 205,
   "id": "6c5c2644",
   "metadata": {},
   "outputs": [
    {
     "data": {
      "text/plain": [
       "array([4, 5, 6])"
      ]
     },
     "execution_count": 205,
     "metadata": {},
     "output_type": "execute_result"
    }
   ],
   "source": [
    "arr_2d[1,:3]"
   ]
  },
  {
   "cell_type": "code",
   "execution_count": 206,
   "id": "3e3b4d42",
   "metadata": {},
   "outputs": [
    {
     "data": {
      "text/plain": [
       "array([7])"
      ]
     },
     "execution_count": 206,
     "metadata": {},
     "output_type": "execute_result"
    }
   ],
   "source": [
    "arr_2d[2,:1]"
   ]
  },
  {
   "cell_type": "code",
   "execution_count": 166,
   "id": "6d8ff860",
   "metadata": {},
   "outputs": [
    {
     "data": {
      "text/plain": [
       "1"
      ]
     },
     "execution_count": 166,
     "metadata": {},
     "output_type": "execute_result"
    }
   ],
   "source": [
    "# Accessing a single element\n",
    "element_1 = arr_2d[0, 0]  # First row, first column (Output: 1)\n",
    "element_1"
   ]
  },
  {
   "cell_type": "code",
   "execution_count": 167,
   "id": "0aa2b866",
   "metadata": {},
   "outputs": [
    {
     "data": {
      "text/plain": [
       "6"
      ]
     },
     "execution_count": 167,
     "metadata": {},
     "output_type": "execute_result"
    }
   ],
   "source": [
    "arr_2d[1, 2]  # Second row, third column (Output: 6)"
   ]
  },
  {
   "cell_type": "code",
   "execution_count": 168,
   "id": "aef86b29",
   "metadata": {},
   "outputs": [
    {
     "data": {
      "text/plain": [
       "8"
      ]
     },
     "execution_count": 168,
     "metadata": {},
     "output_type": "execute_result"
    }
   ],
   "source": [
    "arr_2d[2, 1]  # Third row, second column (Output: 8)"
   ]
  },
  {
   "cell_type": "code",
   "execution_count": null,
   "id": "8647b8e0",
   "metadata": {},
   "outputs": [],
   "source": [
    "# To access entire rows or columns:\n",
    "\n",
    "# Accessing an entire row\n",
    "row_1 = arr_2d[0, :]  # First row (Output: [1 2 3])\n",
    "row_2 = arr_2d[1, :]  # Second row (Output: [4 5 6])\n",
    "row_3 = arr_2d[2, :]  # Third row (Output: [7 8 9])\n",
    "\n",
    "# Accessing an entire column\n",
    "col_1 = arr_2d[:, 0]  # First column (Output: [1 4 7])\n",
    "col_2 = arr_2d[:, 1]  # Second column (Output: [2 5 8])\n",
    "col_3 = arr_2d[:, 2]  # Third column (Output: [3 6 9])"
   ]
  },
  {
   "cell_type": "code",
   "execution_count": 169,
   "id": "7327ab73",
   "metadata": {},
   "outputs": [
    {
     "data": {
      "text/plain": [
       "array([4, 5, 6])"
      ]
     },
     "execution_count": 169,
     "metadata": {},
     "output_type": "execute_result"
    }
   ],
   "source": [
    "# Second row (Output: [4 5 6])\n",
    "row_2 = arr_2d[1, :]  \n",
    "row_2"
   ]
  },
  {
   "cell_type": "code",
   "execution_count": 171,
   "id": "0ca90e86",
   "metadata": {},
   "outputs": [
    {
     "data": {
      "text/plain": [
       "array([[1, 2, 3],\n",
       "       [4, 5, 6],\n",
       "       [7, 8, 9]])"
      ]
     },
     "execution_count": 171,
     "metadata": {},
     "output_type": "execute_result"
    }
   ],
   "source": [
    "arr_2d"
   ]
  },
  {
   "cell_type": "code",
   "execution_count": 173,
   "id": "9a80e35c",
   "metadata": {},
   "outputs": [
    {
     "data": {
      "text/plain": [
       "array([3, 6, 9])"
      ]
     },
     "execution_count": 173,
     "metadata": {},
     "output_type": "execute_result"
    }
   ],
   "source": [
    "col_3 = arr_2d[:, 2]  # Third column (Output: [3 6 9])\n",
    "col_3"
   ]
  },
  {
   "cell_type": "code",
   "execution_count": 179,
   "id": "35acc7fe",
   "metadata": {},
   "outputs": [
    {
     "data": {
      "text/plain": [
       "array([[4, 5, 6]])"
      ]
     },
     "execution_count": 179,
     "metadata": {},
     "output_type": "execute_result"
    }
   ],
   "source": [
    "col_4 = arr_2d[1:2]\n",
    "col_4"
   ]
  },
  {
   "cell_type": "code",
   "execution_count": 181,
   "id": "79a88bc2",
   "metadata": {},
   "outputs": [
    {
     "data": {
      "text/plain": [
       "array([[5, 6],\n",
       "       [8, 9]])"
      ]
     },
     "execution_count": 181,
     "metadata": {},
     "output_type": "execute_result"
    }
   ],
   "source": [
    "# Slicing a sub-matrix\n",
    "sub_matrix = arr_2d[1:3, 1:3]\n",
    "sub_matrix"
   ]
  },
  {
   "cell_type": "code",
   "execution_count": 184,
   "id": "66201e6f",
   "metadata": {},
   "outputs": [
    {
     "data": {
      "text/plain": [
       "array([[4, 5, 6],\n",
       "       [7, 8, 9]])"
      ]
     },
     "execution_count": 184,
     "metadata": {},
     "output_type": "execute_result"
    }
   ],
   "source": [
    "# Slicing a sub-matrix\n",
    "sub_matrix = arr_2d[1:3]\n",
    "sub_matrix"
   ]
  },
  {
   "cell_type": "code",
   "execution_count": null,
   "id": "36149707",
   "metadata": {},
   "outputs": [],
   "source": []
  },
  {
   "cell_type": "code",
   "execution_count": null,
   "id": "bd886b17",
   "metadata": {},
   "outputs": [],
   "source": []
  },
  {
   "cell_type": "code",
   "execution_count": 134,
   "id": "7436033c",
   "metadata": {},
   "outputs": [
    {
     "data": {
      "text/plain": [
       "array([[1, 2, 3],\n",
       "       [4, 5, 6],\n",
       "       [7, 8, 9]])"
      ]
     },
     "execution_count": 134,
     "metadata": {},
     "output_type": "execute_result"
    }
   ],
   "source": [
    "# Slicing\n",
    "arr"
   ]
  },
  {
   "cell_type": "code",
   "execution_count": 136,
   "id": "c7c2368f",
   "metadata": {},
   "outputs": [
    {
     "data": {
      "text/plain": [
       "array([[4, 5, 6],\n",
       "       [7, 8, 9]])"
      ]
     },
     "execution_count": 136,
     "metadata": {},
     "output_type": "execute_result"
    }
   ],
   "source": [
    "arr[1:4]"
   ]
  },
  {
   "cell_type": "code",
   "execution_count": 142,
   "id": "0934f2c4",
   "metadata": {},
   "outputs": [
    {
     "data": {
      "text/plain": [
       "array([[4, 5, 6],\n",
       "       [7, 8, 9]])"
      ]
     },
     "execution_count": 142,
     "metadata": {},
     "output_type": "execute_result"
    }
   ],
   "source": [
    "arr[1:3]"
   ]
  },
  {
   "cell_type": "code",
   "execution_count": 147,
   "id": "9189b93e",
   "metadata": {},
   "outputs": [
    {
     "data": {
      "text/plain": [
       "array([[ 1,  3,  5,  7,  9],\n",
       "       [11, 13, 15, 17, 19],\n",
       "       [21, 23, 25, 27, 29],\n",
       "       [31, 33, 35, 37, 39]])"
      ]
     },
     "execution_count": 147,
     "metadata": {},
     "output_type": "execute_result"
    }
   ],
   "source": [
    "new_arr = np.arange(1,40,2).reshape(4,5)\n",
    "new_arr"
   ]
  },
  {
   "cell_type": "code",
   "execution_count": 158,
   "id": "33230c97",
   "metadata": {},
   "outputs": [
    {
     "data": {
      "text/plain": [
       "array([[21, 23, 25, 27, 29]])"
      ]
     },
     "execution_count": 158,
     "metadata": {},
     "output_type": "execute_result"
    }
   ],
   "source": [
    "new_arr[2:3]"
   ]
  },
  {
   "cell_type": "code",
   "execution_count": 161,
   "id": "c6585d03",
   "metadata": {},
   "outputs": [
    {
     "data": {
      "text/plain": [
       "array([21, 23, 25])"
      ]
     },
     "execution_count": 161,
     "metadata": {},
     "output_type": "execute_result"
    }
   ],
   "source": [
    "new_arr[2,:3]"
   ]
  },
  {
   "cell_type": "code",
   "execution_count": null,
   "id": "7bfa2cb7",
   "metadata": {},
   "outputs": [],
   "source": []
  },
  {
   "cell_type": "code",
   "execution_count": 151,
   "id": "c713a921",
   "metadata": {},
   "outputs": [
    {
     "data": {
      "text/plain": [
       "array([[11, 13, 15, 17, 19],\n",
       "       [21, 23, 25, 27, 29],\n",
       "       [31, 33, 35, 37, 39]])"
      ]
     },
     "execution_count": 151,
     "metadata": {},
     "output_type": "execute_result"
    }
   ],
   "source": [
    "new_arr[1:4]"
   ]
  },
  {
   "cell_type": "code",
   "execution_count": 156,
   "id": "9f36dc98",
   "metadata": {},
   "outputs": [
    {
     "data": {
      "text/plain": [
       "array([], shape=(0, 5), dtype=int32)"
      ]
     },
     "execution_count": 156,
     "metadata": {},
     "output_type": "execute_result"
    }
   ],
   "source": [
    "new_arr[3:1]"
   ]
  },
  {
   "cell_type": "code",
   "execution_count": null,
   "id": "fc0fe49b",
   "metadata": {},
   "outputs": [],
   "source": []
  },
  {
   "attachments": {},
   "cell_type": "markdown",
   "id": "3f8ccbd5",
   "metadata": {},
   "source": [
    "## Array Shape Manipulation:\n",
    "\n",
    "NumPy allows you to manipulate the shape of arrays easily:"
   ]
  },
  {
   "cell_type": "code",
   "execution_count": 99,
   "id": "2cbaccf0",
   "metadata": {},
   "outputs": [
    {
     "name": "stdout",
     "output_type": "stream",
     "text": [
      "array:  \n",
      " [[1 2 3]\n",
      " [4 5 6]\n",
      " [7 8 9]] \n",
      "\n",
      "reshaped: \n",
      "[[1 2 3 4 5 6 7 8 9]] \n",
      "\n",
      "transposed: \n",
      "[[1 4 7]\n",
      " [2 5 8]\n",
      " [3 6 9]] \n",
      "\n",
      "flattened: \n",
      "[1 2 3 4 5 6 7 8 9] \n",
      "\n",
      "concatenated: \n",
      "[1 2 3 4 5 6]\n"
     ]
    }
   ],
   "source": [
    "arr = np.array([[1, 2, 3], [4, 5, 6], [7, 8, 9]])\n",
    "\n",
    "# Reshape the array\n",
    "reshaped = arr.reshape(1, 9)\n",
    "\n",
    "# Transpose the array\n",
    "transposed = arr.T\n",
    "\n",
    "# Flatten the array\n",
    "flattened = arr.flatten()\n",
    "\n",
    "# Concatenation\n",
    "a = np.array([1, 2, 3])\n",
    "b = np.array([4, 5, 6])\n",
    "concatenated = np.concatenate((a, b))\n",
    "\n",
    "print('array: ' , \"\\n\" , arr , \"\\n\")\n",
    "print('reshaped: ')\n",
    "print( reshaped, \"\\n\")\n",
    "print('transposed: ')\n",
    "print( transposed, \"\\n\")\n",
    "print('flattened: ')\n",
    "print( flattened, \"\\n\")\n",
    "print('concatenated: ')\n",
    "print( concatenated)\n"
   ]
  },
  {
   "cell_type": "code",
   "execution_count": 93,
   "id": "fa55b7e1",
   "metadata": {},
   "outputs": [
    {
     "data": {
      "text/plain": [
       "array([[1, 4, 7],\n",
       "       [2, 5, 8],\n",
       "       [3, 6, 9]])"
      ]
     },
     "execution_count": 93,
     "metadata": {},
     "output_type": "execute_result"
    }
   ],
   "source": [
    "# Transpose the array\n",
    "transposed = arr.T\n",
    "transposed"
   ]
  },
  {
   "cell_type": "code",
   "execution_count": 94,
   "id": "807ab1a7",
   "metadata": {},
   "outputs": [
    {
     "data": {
      "text/plain": [
       "array([1, 2, 3, 4, 5, 6, 7, 8, 9])"
      ]
     },
     "execution_count": 94,
     "metadata": {},
     "output_type": "execute_result"
    }
   ],
   "source": [
    "# Flatten the array\n",
    "flattened = arr.flatten()\n",
    "flattened"
   ]
  },
  {
   "cell_type": "code",
   "execution_count": 96,
   "id": "77ed9946",
   "metadata": {},
   "outputs": [
    {
     "data": {
      "text/plain": [
       "array([1, 2, 3, 4, 5, 6])"
      ]
     },
     "execution_count": 96,
     "metadata": {},
     "output_type": "execute_result"
    }
   ],
   "source": [
    "# Concatenation\n",
    "a = np.array([1, 2, 3])\n",
    "b = np.array([4, 5, 6])\n",
    "concatenated = np.concatenate((a, b))\n",
    "concatenated"
   ]
  },
  {
   "cell_type": "code",
   "execution_count": 110,
   "id": "64662c4b",
   "metadata": {},
   "outputs": [
    {
     "data": {
      "text/plain": [
       "array([[1, 2, 3, 4, 5, 6, 7, 8, 9]])"
      ]
     },
     "execution_count": 110,
     "metadata": {},
     "output_type": "execute_result"
    }
   ],
   "source": [
    "# Reshape the array\n",
    "reshaped = arr.reshape(1, 9)\n",
    "reshaped"
   ]
  },
  {
   "cell_type": "code",
   "execution_count": 116,
   "id": "1869d8b8",
   "metadata": {},
   "outputs": [
    {
     "data": {
      "text/plain": [
       "(1, 9)"
      ]
     },
     "execution_count": 116,
     "metadata": {},
     "output_type": "execute_result"
    }
   ],
   "source": [
    "reshaped.shape"
   ]
  },
  {
   "cell_type": "code",
   "execution_count": 120,
   "id": "bb28d060",
   "metadata": {},
   "outputs": [
    {
     "data": {
      "text/plain": [
       "array([[1],\n",
       "       [2],\n",
       "       [3],\n",
       "       [4],\n",
       "       [5],\n",
       "       [6],\n",
       "       [7],\n",
       "       [8],\n",
       "       [9]])"
      ]
     },
     "execution_count": 120,
     "metadata": {},
     "output_type": "execute_result"
    }
   ],
   "source": [
    "reshaped.reshape(9,1)"
   ]
  },
  {
   "attachments": {},
   "cell_type": "markdown",
   "id": "f84db13a",
   "metadata": {},
   "source": [
    "## how much possible ways to reshape this? \n",
    "To find out the possible ways to reshape the array `arr` into a 1-dimensional array of 9 elements, we can check how many combinations of dimensions result in a total of 9 elements. Reshaping an array means changing its dimensions while keeping the total number of elements constant.\n",
    "\n",
    "For `arr = np.array([[1, 2, 3], [4, 5, 6], [7, 8, 9]])`, the original shape is (3, 3), and we want to reshape it into a 1-dimensional array with 9 elements.\n",
    "\n",
    "To get a 1-dimensional array with 9 elements, the possible reshapes are:\n",
    "\n",
    "1. (9,)\n",
    "2. (1, 9)\n",
    "3. (3, 3)\n",
    "4. (3, 1, 3)\n",
    "5. (3, 3, 1)\n",
    "6. (1, 1, 9)\n",
    "7. (1, 3, 3)\n",
    "8. (1, 3, 1, 3)\n",
    "9. (1, 3, 3, 1)\n",
    "10. (1, 1, 1, 9)\n",
    "11. (1, 1, 3, 3)\n",
    "12. (1, 1, 1, 3, 3)\n",
    "13. (1, 1, 3, 1, 3)\n",
    "14. (1, 1, 3, 3, 1)\n",
    "15. (1, 1, 1, 1, 1, 9)\n",
    "16. (1, 1, 1, 1, 3, 3)\n",
    "17. (1, 1, 1, 1, 1, 3, 3)\n",
    "18. (1, 1, 1, 1, 1, 3, 1, 3)\n",
    "19. (1, 1, 1, 1, 1, 3, 3, 1)\n",
    "20. (1, 1, 1, 1, 1, 1, 1, 1, 9)\n",
    "\n",
    "So, there are a total of 20 possible ways to reshape the array `arr` into a 1-dimensional array with 9 elements."
   ]
  },
  {
   "cell_type": "code",
   "execution_count": 122,
   "id": "123087bc",
   "metadata": {},
   "outputs": [
    {
     "data": {
      "text/plain": [
       "array([[1, 2, 3],\n",
       "       [4, 5, 6],\n",
       "       [7, 8, 9]])"
      ]
     },
     "execution_count": 122,
     "metadata": {},
     "output_type": "execute_result"
    }
   ],
   "source": [
    "arr = np.array([[1, 2, 3], [4, 5, 6], [7, 8, 9]])\n",
    "arr"
   ]
  },
  {
   "cell_type": "code",
   "execution_count": 123,
   "id": "81ef2307",
   "metadata": {},
   "outputs": [
    {
     "data": {
      "text/plain": [
       "array([[1, 2, 3],\n",
       "       [4, 5, 6],\n",
       "       [7, 8, 9]])"
      ]
     },
     "execution_count": 123,
     "metadata": {},
     "output_type": "execute_result"
    }
   ],
   "source": [
    "arr.reshape(3, 3)"
   ]
  },
  {
   "cell_type": "code",
   "execution_count": 125,
   "id": "00b3d83a",
   "metadata": {},
   "outputs": [
    {
     "data": {
      "text/plain": [
       "array([[[[[1, 2, 3]],\n",
       "\n",
       "         [[4, 5, 6]],\n",
       "\n",
       "         [[7, 8, 9]]]]])"
      ]
     },
     "execution_count": 125,
     "metadata": {},
     "output_type": "execute_result"
    }
   ],
   "source": [
    "arr.reshape(1, 1, 3, 1, 3)"
   ]
  },
  {
   "cell_type": "code",
   "execution_count": 128,
   "id": "a517f003",
   "metadata": {},
   "outputs": [
    {
     "data": {
      "text/plain": [
       "array([[[[1],\n",
       "         [2],\n",
       "         [3]],\n",
       "\n",
       "        [[4],\n",
       "         [5],\n",
       "         [6]],\n",
       "\n",
       "        [[7],\n",
       "         [8],\n",
       "         [9]]]])"
      ]
     },
     "execution_count": 128,
     "metadata": {},
     "output_type": "execute_result"
    }
   ],
   "source": [
    "arr.reshape(1, 3, 3, 1)"
   ]
  },
  {
   "cell_type": "code",
   "execution_count": null,
   "id": "20511543",
   "metadata": {},
   "outputs": [],
   "source": []
  },
  {
   "cell_type": "code",
   "execution_count": null,
   "id": "1679d253",
   "metadata": {},
   "outputs": [],
   "source": []
  },
  {
   "cell_type": "code",
   "execution_count": 102,
   "id": "dca36336",
   "metadata": {},
   "outputs": [
    {
     "data": {
      "text/plain": [
       "array([[1, 2, 3, 4, 5],\n",
       "       [2, 3, 4, 5, 6],\n",
       "       [3, 4, 5, 6, 7]])"
      ]
     },
     "execution_count": 102,
     "metadata": {},
     "output_type": "execute_result"
    }
   ],
   "source": [
    "# other way to make array\n",
    "\n",
    "lst1=[1,2,3,4,5]\n",
    "lst2=[2,3,4,5,6]\n",
    "lst3=[3,4,5,6,7]\n",
    "\n",
    "arr1=np.array([lst1,lst2,lst3])\n",
    "arr1\n"
   ]
  },
  {
   "cell_type": "code",
   "execution_count": 103,
   "id": "bfe253cf",
   "metadata": {},
   "outputs": [
    {
     "data": {
      "text/plain": [
       "(3, 5)"
      ]
     },
     "execution_count": 103,
     "metadata": {},
     "output_type": "execute_result"
    }
   ],
   "source": [
    "arr1.shape"
   ]
  },
  {
   "cell_type": "code",
   "execution_count": 114,
   "id": "be177b9e",
   "metadata": {},
   "outputs": [
    {
     "data": {
      "text/plain": [
       "array([[1, 2, 3],\n",
       "       [4, 5, 2],\n",
       "       [3, 4, 5],\n",
       "       [6, 3, 4],\n",
       "       [5, 6, 7]])"
      ]
     },
     "execution_count": 114,
     "metadata": {},
     "output_type": "execute_result"
    }
   ],
   "source": [
    "arr1.reshape(5,3)"
   ]
  },
  {
   "cell_type": "code",
   "execution_count": 104,
   "id": "4d33cb0b",
   "metadata": {},
   "outputs": [
    {
     "data": {
      "text/plain": [
       "array([[1, 2, 3],\n",
       "       [4, 5, 6],\n",
       "       [7, 8, 9]])"
      ]
     },
     "execution_count": 104,
     "metadata": {},
     "output_type": "execute_result"
    }
   ],
   "source": [
    "arr"
   ]
  },
  {
   "cell_type": "code",
   "execution_count": 129,
   "id": "5dbbb793",
   "metadata": {},
   "outputs": [
    {
     "data": {
      "text/plain": [
       "array([[ 1,  3,  5,  7,  9],\n",
       "       [11, 13, 15, 17, 19]])"
      ]
     },
     "execution_count": 129,
     "metadata": {},
     "output_type": "execute_result"
    }
   ],
   "source": [
    "## mechanism to create an array\n",
    "\n",
    "np.arange(1,20,2).reshape(2,5)"
   ]
  },
  {
   "cell_type": "code",
   "execution_count": 130,
   "id": "528a8afd",
   "metadata": {},
   "outputs": [
    {
     "data": {
      "text/plain": [
       "array([[[ 1],\n",
       "        [ 3],\n",
       "        [ 5],\n",
       "        [ 7],\n",
       "        [ 9]],\n",
       "\n",
       "       [[11],\n",
       "        [13],\n",
       "        [15],\n",
       "        [17],\n",
       "        [19]]])"
      ]
     },
     "execution_count": 130,
     "metadata": {},
     "output_type": "execute_result"
    }
   ],
   "source": [
    "np.arange(1,20,2).reshape(2,5,1)"
   ]
  },
  {
   "cell_type": "code",
   "execution_count": null,
   "id": "63662884",
   "metadata": {},
   "outputs": [],
   "source": []
  },
  {
   "cell_type": "code",
   "execution_count": null,
   "id": "b4e84aef",
   "metadata": {},
   "outputs": [],
   "source": []
  },
  {
   "cell_type": "code",
   "execution_count": null,
   "id": "bd7e9ed4",
   "metadata": {},
   "outputs": [],
   "source": []
  },
  {
   "attachments": {},
   "cell_type": "markdown",
   "id": "9f13a180",
   "metadata": {},
   "source": [
    "## Mathematical Functions:\n",
    "\n",
    "NumPy provides a wide range of mathematical functions that can be applied element-wise:"
   ]
  },
  {
   "cell_type": "code",
   "execution_count": 21,
   "id": "d38b0588",
   "metadata": {},
   "outputs": [],
   "source": [
    "arr = np.array([1, 2, 3, 4, 5])\n",
    "\n",
    "# Square root\n",
    "sqrt_arr = np.sqrt(arr)"
   ]
  },
  {
   "cell_type": "code",
   "execution_count": 213,
   "id": "3d69e714",
   "metadata": {},
   "outputs": [
    {
     "data": {
      "text/plain": [
       "array([1.        , 1.41421356, 1.73205081, 2.        , 2.23606798])"
      ]
     },
     "execution_count": 213,
     "metadata": {},
     "output_type": "execute_result"
    }
   ],
   "source": [
    "sqrt_arr"
   ]
  },
  {
   "cell_type": "code",
   "execution_count": 214,
   "id": "1ba35860",
   "metadata": {},
   "outputs": [
    {
     "data": {
      "text/plain": [
       "array([[2.71828183e+00, 7.38905610e+00, 2.00855369e+01],\n",
       "       [5.45981500e+01, 1.48413159e+02, 4.03428793e+02],\n",
       "       [1.09663316e+03, 2.98095799e+03, 8.10308393e+03]])"
      ]
     },
     "execution_count": 214,
     "metadata": {},
     "output_type": "execute_result"
    }
   ],
   "source": [
    "# Exponential\n",
    "exp_arr = np.exp(arr)\n",
    "exp_arr"
   ]
  },
  {
   "cell_type": "code",
   "execution_count": 215,
   "id": "584d9fe0",
   "metadata": {},
   "outputs": [],
   "source": [
    "# Trigonometric functions\n",
    "sin_arr = np.sin(arr)\n",
    "cos_arr = np.cos(arr)"
   ]
  },
  {
   "cell_type": "code",
   "execution_count": 216,
   "id": "cb6352c5",
   "metadata": {},
   "outputs": [
    {
     "data": {
      "text/plain": [
       "array([[ 0.84147098,  0.90929743,  0.14112001],\n",
       "       [-0.7568025 , -0.95892427, -0.2794155 ],\n",
       "       [ 0.6569866 ,  0.98935825,  0.41211849]])"
      ]
     },
     "execution_count": 216,
     "metadata": {},
     "output_type": "execute_result"
    }
   ],
   "source": [
    "sin_arr"
   ]
  },
  {
   "cell_type": "code",
   "execution_count": 217,
   "id": "c931e1cb",
   "metadata": {},
   "outputs": [
    {
     "data": {
      "text/plain": [
       "array([[ 0.54030231, -0.41614684, -0.9899925 ],\n",
       "       [-0.65364362,  0.28366219,  0.96017029],\n",
       "       [ 0.75390225, -0.14550003, -0.91113026]])"
      ]
     },
     "execution_count": 217,
     "metadata": {},
     "output_type": "execute_result"
    }
   ],
   "source": [
    "cos_arr"
   ]
  },
  {
   "attachments": {},
   "cell_type": "markdown",
   "id": "32582896",
   "metadata": {},
   "source": [
    "## Broadcasting:\n",
    "\n",
    "Broadcasting allows NumPy to perform operations on arrays with different shapes:"
   ]
  },
  {
   "cell_type": "code",
   "execution_count": 131,
   "id": "e9e66790",
   "metadata": {},
   "outputs": [
    {
     "data": {
      "text/plain": [
       "array([[11, 22],\n",
       "       [13, 24]])"
      ]
     },
     "execution_count": 131,
     "metadata": {},
     "output_type": "execute_result"
    }
   ],
   "source": [
    "a = np.array([[1, 2], [3, 4]])\n",
    "b = np.array([10, 20])\n",
    "\n",
    "result = a + b\n",
    "result"
   ]
  },
  {
   "attachments": {},
   "cell_type": "markdown",
   "id": "bc602031",
   "metadata": {},
   "source": [
    "## Array Aggregation:\n",
    "\n",
    "NumPy provides functions for aggregation operations like sum, mean, min, max, etc.:"
   ]
  },
  {
   "cell_type": "code",
   "execution_count": 23,
   "id": "7a52d5e5",
   "metadata": {},
   "outputs": [],
   "source": [
    "arr = np.array([[1, 2, 3], [4, 5, 6], [7, 8, 9]])"
   ]
  },
  {
   "cell_type": "code",
   "execution_count": 219,
   "id": "c15eb327",
   "metadata": {},
   "outputs": [
    {
     "data": {
      "text/plain": [
       "array([[1, 2, 3],\n",
       "       [4, 5, 6],\n",
       "       [7, 8, 9]])"
      ]
     },
     "execution_count": 219,
     "metadata": {},
     "output_type": "execute_result"
    }
   ],
   "source": [
    "arr"
   ]
  },
  {
   "cell_type": "code",
   "execution_count": 223,
   "id": "49d47e99",
   "metadata": {},
   "outputs": [
    {
     "name": "stdout",
     "output_type": "stream",
     "text": [
      "[12 15 18]\n",
      "[ 6 15 24]\n"
     ]
    }
   ],
   "source": [
    "sum_all = arr.sum()\n",
    "sum_axis0 = arr.sum(axis=0)\n",
    "sum_axis1 = arr.sum(axis=1)\n",
    "\n",
    "print(sum_axis0)\n",
    "print(sum_axis1)"
   ]
  },
  {
   "cell_type": "code",
   "execution_count": 226,
   "id": "63828344",
   "metadata": {},
   "outputs": [
    {
     "name": "stdout",
     "output_type": "stream",
     "text": [
      "[4. 5. 6.]\n",
      "[2. 5. 8.]\n"
     ]
    }
   ],
   "source": [
    "\n",
    "mean_all = arr.mean()\n",
    "mean_axis0 = arr.mean(axis=0)\n",
    "mean_axis1 = arr.mean(axis=1)\n",
    "\n",
    "print(mean_axis0)\n",
    "print(mean_axis1)"
   ]
  },
  {
   "cell_type": "code",
   "execution_count": 227,
   "id": "601892b8",
   "metadata": {},
   "outputs": [
    {
     "name": "stdout",
     "output_type": "stream",
     "text": [
      "[1 2 3]\n",
      "[1 4 7]\n"
     ]
    }
   ],
   "source": [
    "min_all = arr.min()\n",
    "min_axis0 = arr.min(axis=0)\n",
    "min_axis1 = arr.min(axis=1)\n",
    "\n",
    "print(min_axis0)\n",
    "print(min_axis1)"
   ]
  },
  {
   "cell_type": "code",
   "execution_count": 228,
   "id": "e354e579",
   "metadata": {},
   "outputs": [
    {
     "name": "stdout",
     "output_type": "stream",
     "text": [
      "[7 8 9]\n",
      "[3 6 9]\n"
     ]
    }
   ],
   "source": [
    "\n",
    "max_all = arr.max()\n",
    "max_axis0 = arr.max(axis=0)\n",
    "max_axis1 = arr.max(axis=1)\n",
    "\n",
    "print(max_axis0)\n",
    "print(max_axis1)"
   ]
  },
  {
   "attachments": {},
   "cell_type": "markdown",
   "id": "6ff2e952",
   "metadata": {},
   "source": [
    "## Linear Algebra:\n",
    "\n",
    "NumPy provides linear algebra functions for matrix operations:"
   ]
  },
  {
   "cell_type": "code",
   "execution_count": 24,
   "id": "84dfcba9",
   "metadata": {},
   "outputs": [],
   "source": [
    "a = np.array([[1, 2], [3, 4]])\n",
    "b = np.array([[5, 6], [7, 8]])"
   ]
  },
  {
   "cell_type": "code",
   "execution_count": 231,
   "id": "358406d5",
   "metadata": {},
   "outputs": [
    {
     "data": {
      "text/plain": [
       "array([[-2. ,  1. ],\n",
       "       [ 1.5, -0.5]])"
      ]
     },
     "execution_count": 231,
     "metadata": {},
     "output_type": "execute_result"
    }
   ],
   "source": [
    "# Matrix inverse\n",
    "inv_a = np.linalg.inv(a)\n",
    "inv_a"
   ]
  },
  {
   "cell_type": "code",
   "execution_count": 229,
   "id": "d1fb8632",
   "metadata": {},
   "outputs": [
    {
     "data": {
      "text/plain": [
       "array([ 50, 110])"
      ]
     },
     "execution_count": 229,
     "metadata": {},
     "output_type": "execute_result"
    }
   ],
   "source": [
    "# Matrix multiplication\n",
    "mat_mul = np.matmul(a, b)\n",
    "mat_mul"
   ]
  },
  {
   "cell_type": "code",
   "execution_count": 230,
   "id": "54ad77b1",
   "metadata": {},
   "outputs": [
    {
     "data": {
      "text/plain": [
       "-2.0000000000000004"
      ]
     },
     "execution_count": 230,
     "metadata": {},
     "output_type": "execute_result"
    }
   ],
   "source": [
    "# Matrix determinant\n",
    "det_a = np.linalg.det(a)\n",
    "det_a"
   ]
  },
  {
   "cell_type": "code",
   "execution_count": null,
   "id": "83d83db2",
   "metadata": {},
   "outputs": [],
   "source": []
  },
  {
   "attachments": {},
   "cell_type": "markdown",
   "id": "f85e1b8c",
   "metadata": {},
   "source": [
    "## NumPy Random Module:\n",
    "\n",
    "NumPy offers a random module for generating random numbers and random sampling:"
   ]
  },
  {
   "cell_type": "code",
   "execution_count": 232,
   "id": "e50559c0",
   "metadata": {},
   "outputs": [
    {
     "data": {
      "text/plain": [
       "array([[9, 1, 3],\n",
       "       [4, 5, 6],\n",
       "       [6, 1, 4]])"
      ]
     },
     "execution_count": 232,
     "metadata": {},
     "output_type": "execute_result"
    }
   ],
   "source": [
    "# Random integers between a range\n",
    "rand_int = np.random.randint(1, 10, size=(3, 3))\n",
    "rand_int"
   ]
  },
  {
   "cell_type": "code",
   "execution_count": 233,
   "id": "06ea6ea5",
   "metadata": {},
   "outputs": [
    {
     "data": {
      "text/plain": [
       "array([[0.04299792, 0.83548685, 0.46850895],\n",
       "       [0.4970294 , 0.98715751, 0.61272486],\n",
       "       [0.90594709, 0.81819597, 0.86577838]])"
      ]
     },
     "execution_count": 233,
     "metadata": {},
     "output_type": "execute_result"
    }
   ],
   "source": [
    "# Random numbers from a uniform distribution [0, 1)\n",
    "rand_uniform = np.random.rand(3, 3)\n",
    "rand_uniform"
   ]
  },
  {
   "cell_type": "code",
   "execution_count": 234,
   "id": "4cea2e24",
   "metadata": {},
   "outputs": [
    {
     "data": {
      "text/plain": [
       "array([[ 2.04476754, -0.09639127,  0.72198686],\n",
       "       [ 0.74571954,  0.22001069,  0.49687652],\n",
       "       [ 1.5724904 , -0.61905045,  0.24115006]])"
      ]
     },
     "execution_count": 234,
     "metadata": {},
     "output_type": "execute_result"
    }
   ],
   "source": [
    "# Random numbers from a standard normal distribution (mean=0, variance=1)\n",
    "rand_normal = np.random.randn(3, 3)\n",
    "rand_normal"
   ]
  },
  {
   "cell_type": "code",
   "execution_count": null,
   "id": "77cc751a",
   "metadata": {},
   "outputs": [],
   "source": []
  },
  {
   "cell_type": "code",
   "execution_count": null,
   "id": "9ac2d3a0",
   "metadata": {},
   "outputs": [],
   "source": []
  },
  {
   "attachments": {},
   "cell_type": "markdown",
   "id": "ffccab02",
   "metadata": {},
   "source": [
    "These are just some of the fundamental features and functionalities of NumPy. There is much more to explore, including advanced indexing, broadcasting with different shapes, and more sophisticated linear algebra functions. NumPy's documentation is a great resource to dive deeper into the library and learn about its full capabilities.\n",
    "\n",
    "\n",
    "\n",
    "\n"
   ]
  }
 ],
 "metadata": {
  "kernelspec": {
   "display_name": "Python 3 (ipykernel)",
   "language": "python",
   "name": "python3"
  },
  "language_info": {
   "codemirror_mode": {
    "name": "ipython",
    "version": 3
   },
   "file_extension": ".py",
   "mimetype": "text/x-python",
   "name": "python",
   "nbconvert_exporter": "python",
   "pygments_lexer": "ipython3",
   "version": "3.11.3"
  }
 },
 "nbformat": 4,
 "nbformat_minor": 5
}
